{
 "cells": [
  {
   "cell_type": "code",
   "execution_count": 322,
   "metadata": {},
   "outputs": [
    {
     "name": "stdout",
     "output_type": "stream",
     "text": [
      "Collecting regex\n",
      "  Downloading https://files.pythonhosted.org/packages/15/a5/cdb73862c207dcbb2dec5a4c64f850314910c55097dfa12cdfc533892502/regex-2018.08.29-cp36-none-win_amd64.whl (255kB)\n",
      "Installing collected packages: regex\n",
      "Successfully installed regex-2018.8.29\n"
     ]
    }
   ],
   "source": [
    "!pip install regex"
   ]
  },
  {
   "cell_type": "code",
   "execution_count": 877,
   "metadata": {},
   "outputs": [],
   "source": [
    "import numpy as np\n",
    "import regex as re\n",
    "from tqdm import tqdm\n",
    "import matplotlib.pyplot as plt\n",
    "from matplotlib import colors\n",
    "from ipywidgets import widgets, interact"
   ]
  },
  {
   "cell_type": "code",
   "execution_count": 257,
   "metadata": {},
   "outputs": [],
   "source": [
    "# Transformar un string binario a un numero decimal\n",
    "def binToDec(binary): \n",
    "    binary1 = binary \n",
    "    decimal, i, n = 0, 0, 0\n",
    "    while(binary != 0): \n",
    "        dec = binary % 10\n",
    "        decimal = decimal + dec * pow(2, i) \n",
    "        binary = binary//10\n",
    "        i += 1\n",
    "    return decimal\n",
    "\n",
    "# Transformar un decimal a un numero binario\n",
    "def decToBin(n): \n",
    "    return bin(n).replace(\"0b\",\"\") \n",
    "\n",
    "# Regla definida en la pregunta 6\n",
    "def regla(vec):\n",
    "    vec = int(vec)\n",
    "    dec = binToDec(vec)\n",
    "    if dec in [0,1,4,5,6,8,9,10,14]:\n",
    "        return 0\n",
    "    else:\n",
    "        return 1\n",
    "    "
   ]
  },
  {
   "cell_type": "code",
   "execution_count": 844,
   "metadata": {},
   "outputs": [],
   "source": [
    "# Generar un regla ECA\n",
    "def ECArule(number):\n",
    "    codeBin = decToBin(number)\n",
    "    lista = []\n",
    "    i = 0\n",
    "    for bina in codeBin[::-1]:\n",
    "        if bina == \"1\":\n",
    "            lista.append(i)\n",
    "        i+=1\n",
    "        \n",
    "    def regla(vec):\n",
    "        vec = int(vec)\n",
    "        dec = binToDec(vec)\n",
    "        if dec in lista:\n",
    "            return 1\n",
    "        else:\n",
    "            return 0\n",
    "    return regla\n",
    "\n",
    "# Generar diccionario de subsecuencias de largo b_length \n",
    "#  encontradas en sequence\n",
    "def create_dictionary(sequence, b_length):\n",
    "    dic = set()\n",
    "    for i in range(len(sequence)-b_length+1):\n",
    "        dic.add(sequence[i:i+b_length])\n",
    "    return list(dic)\n",
    "\n",
    "# Calcular la entropia de una secuencia (sequence) dado un largo \n",
    "#  de bloque b_length\n",
    "def entropy(sequence, b_length):\n",
    "    n = len(sequence)-b_length+1\n",
    "    pitatoria = 1\n",
    "    dictionary = create_dictionary(sequence, b_length)\n",
    "    sub_sequences = re.findall(r'\\d{'+str(b_length)+'}', sequence, overlapped=True)\n",
    "    for word in dictionary:\n",
    "        p = sub_sequences.count(word)/n\n",
    "        pitatoria *= p\n",
    "    return -np.log2(pitatoria)/n\n",
    "\n",
    "# Generador de secuencias binarias aleatorias de largo length\n",
    "def random_state(length):\n",
    "    numbers = np.random.choice(2, length, p=[0.5, 0.5])\n",
    "    return ''.join(str(n) for n in numbers)\n",
    "\n",
    "# Generador de secuencias binarias aleatorias de largo length\n",
    "def random_traffic(length):\n",
    "    track1 = np.random.choice(2, length, p=[0.5, 0.5])\n",
    "    track2 = np.random.choice(2, length, p=[0.5, 0.5])\n",
    "    return (track1, track2)\n",
    "\n",
    "# Generador de secuencias binarias aleatorias de largo length\n",
    "def random_cachipun(length):\n",
    "    matrix = np.zeros((length, length))\n",
    "    for i in range(length):\n",
    "        matrix[i] = np.random.choice(3, length, p=[1/3, 1/3, 1/3])\n",
    "    return matrix"
   ]
  },
  {
   "cell_type": "markdown",
   "metadata": {},
   "source": [
    "Se utilizó la siguiente definición de [entropía empírica](https://stats.stackexchange.com/questions/28178/what-is-empirical-entropy#28252):\n",
    "\n",
    "$$H(\\hat{p})=-\\dfrac{1}{n}\\log\\left(\\hat{p}\\left(x^n\\right)\\right)$$"
   ]
  },
  {
   "cell_type": "markdown",
   "metadata": {},
   "source": [
    "# Pregunta 6"
   ]
  },
  {
   "cell_type": "code",
   "execution_count": 539,
   "metadata": {},
   "outputs": [],
   "source": [
    "# Automata celular con condiciones periódicas\n",
    "\n",
    "class Autocelu:\n",
    "    \n",
    "    def __init__(self, init_state, rule, l_bound, r_bound):\n",
    "        self.state = init_state # Estado actual de automata\n",
    "        self.rule = rule # Regla del automata\n",
    "        self.l_bound = l_bound # Limite izq. de la vecindad\n",
    "        self.r_bound = r_bound # Limite der. de la vecindad\n",
    "        self.size_bound = r_bound-l_bound # Tamanio de la vecindad\n",
    "        self.size = len(init_state) # Tamanio del automata\n",
    "        self.hist = [init_state] # Historial del automata\n",
    "        self.entropy_hist = []\n",
    "        self.name = rule.__name__+str(self.size)\n",
    "        \n",
    "    # Calcular la entropia y registrarla\n",
    "    \n",
    "    def calc_entropy(self, size_block):\n",
    "        self.entropy_hist.append(entropy(self.state, size_block))\n",
    "    \n",
    "    # Aplicar la regla sobre el automata    \n",
    "    \n",
    "    def next(self, ent=False):\n",
    "        \n",
    "        next_state = \"\"\n",
    "        for i in range(self.size):\n",
    "            \n",
    "            vecindad = \"\"\n",
    "            for j in range(self.l_bound+i,self.r_bound+i+1):\n",
    "                vecindad += self.state[j%self.size]\n",
    "            \n",
    "            next_bit = str(self.rule(vecindad))\n",
    "            next_state += next_bit\n",
    "            \n",
    "            # Descomentar para mostrar vecindad y resultado de cada aplicacion de la regla\n",
    "            #print(vecindad+\" \"+next_bit)\n",
    "        if ent:\n",
    "            self.calc_entropy(4)\n",
    "        self.hist.append(next_state)\n",
    "        self.state = next_state\n",
    "    \n",
    "    # Aplicar n_iter veces la regla al automata\n",
    "    \n",
    "    def iter(self, n_iter, ent=False):\n",
    "        for i in range(n_iter):\n",
    "            self.next(ent)\n",
    "    \n",
    "    # Devolver el automata a su estado inicial\n",
    "    \n",
    "    def reset(self):\n",
    "        self.state = self.hist[0]\n",
    "        self.hist = [self.state]\n",
    "        aux = self.entropy_hist[0]\n",
    "        self.entropy_hist = [aux]\n",
    "    \n",
    "    # Devuelve una lista con los estados del automata \n",
    "    \n",
    "    def historial(self):\n",
    "        return self.hist\n",
    "    \n",
    "    # Muestra el automata repetido length veces, para visualizar dinamicas en el borde\n",
    "    \n",
    "    def view(self, length=1):\n",
    "        matrix = np.zeros((len(self.hist), self.size*length),int)\n",
    "        row = np.zeros(self.size*length)\n",
    "        i = 0\n",
    "        for item in self.hist:\n",
    "            row[:] = [int(c) for c in item]*length\n",
    "            matrix[i] = row\n",
    "            i+=1\n",
    "        fig, ax = plt.subplots(figsize=(14,7))\n",
    "        plt.imshow(matrix, cmap='Greys',  interpolation='nearest')\n",
    "        plt.savefig(self.name+'.png')\n",
    "        plt.show()\n",
    "        \n",
    "    # Devuelve una lista con las entropias\n",
    "    \n",
    "    def historial_ent(self):\n",
    "        return self.entropy_hist"
   ]
  },
  {
   "cell_type": "code",
   "execution_count": 568,
   "metadata": {},
   "outputs": [],
   "source": [
    "init = random_state(200)\n",
    "\n",
    "# Estado inicial es un string\n",
    "ac = Autocelu(init, regla, -2, 1)"
   ]
  },
  {
   "cell_type": "code",
   "execution_count": 572,
   "metadata": {},
   "outputs": [],
   "source": [
    "ac.iter(100)"
   ]
  },
  {
   "cell_type": "code",
   "execution_count": 574,
   "metadata": {
    "scrolled": false
   },
   "outputs": [
    {
     "data": {
      "image/png": "[encoded data removed]",
      "text/plain": [
       "<matplotlib.figure.Figure at 0x16e21f94518>"
      ]
     },
     "metadata": {},
     "output_type": "display_data"
    }
   ],
   "source": [
    "ac.view(1)"
   ]
  },
  {
   "cell_type": "markdown",
   "metadata": {},
   "source": [
    "Según lo observado, el autómata no corresponde a uno conservativo (1s desaparecen)"
   ]
  },
  {
   "cell_type": "markdown",
   "metadata": {},
   "source": [
    "# Pregunta 9"
   ]
  },
  {
   "cell_type": "code",
   "execution_count": 370,
   "metadata": {},
   "outputs": [],
   "source": [
    "# Definir reglas requeridas\n",
    "\n",
    "rule108 = ECArule(108)\n",
    "rule110 = ECArule(110)\n",
    "rule126 = ECArule(126)\n",
    "rule160 = ECArule(160)"
   ]
  },
  {
   "cell_type": "code",
   "execution_count": 452,
   "metadata": {},
   "outputs": [],
   "source": [
    "m=100"
   ]
  },
  {
   "cell_type": "markdown",
   "metadata": {},
   "source": [
    "#### Regla 108"
   ]
  },
  {
   "cell_type": "code",
   "execution_count": 453,
   "metadata": {},
   "outputs": [],
   "source": [
    "total_ent108 = np.zeros(100)\n",
    "for i in range(m):\n",
    "    init = random_state(5000)\n",
    "    ac = Autocelu(init, rule108, -1, 1)\n",
    "    ac.iter(100,True)\n",
    "    ent = ac.historial_ent()\n",
    "    total_ent108 += ent\n",
    "total_ent108/=m"
   ]
  },
  {
   "cell_type": "markdown",
   "metadata": {},
   "source": [
    "##### Gráfico de entropía"
   ]
  },
  {
   "cell_type": "code",
   "execution_count": 455,
   "metadata": {},
   "outputs": [
    {
     "data": {
      "image/png": "[encoded data removed]",
      "text/plain": [
       "<matplotlib.figure.Figure at 0x16e20b841d0>"
      ]
     },
     "metadata": {},
     "output_type": "display_data"
    }
   ],
   "source": [
    "plt.plot(np.arange(0,100), total_ent108)\n",
    "\n",
    "plt.xlabel('Iteracion')\n",
    "plt.ylabel('Entropia')\n",
    "plt.title('Regla 108')\n",
    "plt.grid(True)\n",
    "plt.show()"
   ]
  },
  {
   "cell_type": "markdown",
   "metadata": {},
   "source": [
    "##### Muestra de 100 iteraciones de un AC de tamaño 20"
   ]
  },
  {
   "cell_type": "code",
   "execution_count": 551,
   "metadata": {},
   "outputs": [
    {
     "data": {
      "image/png": "[encoded data removed]",
      "text/plain": [
       "<matplotlib.figure.Figure at 0x16e20af3f28>"
      ]
     },
     "metadata": {},
     "output_type": "display_data"
    }
   ],
   "source": [
    "init=random_state(20)\n",
    "ac108 = Autocelu(init, rule108, -1, 1)\n",
    "ac108.iter(100)\n",
    "ac108.view(3)"
   ]
  },
  {
   "cell_type": "code",
   "execution_count": 488,
   "metadata": {},
   "outputs": [
    {
     "name": "stdout",
     "output_type": "stream",
     "text": [
      "Writing default config to: C:\\Users\\Javier\\.jupyter\\jupyter_notebook_config.py\n"
     ]
    }
   ],
   "source": [
    "!jupyter notebook --generate-config"
   ]
  },
  {
   "cell_type": "markdown",
   "metadata": {},
   "source": [
    "Se observa que la entropía incrementa en un principio y luego se estanca a partir de una iteración, porque como se observa en el ejemplo, el AC llega a un punto fijo.\n",
    "\n",
    "Dada esta descripción, pertenecen a la Clase I."
   ]
  },
  {
   "cell_type": "markdown",
   "metadata": {},
   "source": [
    "#### Regla 110"
   ]
  },
  {
   "cell_type": "code",
   "execution_count": 456,
   "metadata": {},
   "outputs": [],
   "source": [
    "total_ent110 = np.zeros(100)\n",
    "for i in range(m):\n",
    "    init = random_state(5000)\n",
    "    ac = Autocelu(init, rule110, -1, 1)\n",
    "    ac.iter(100,True)\n",
    "    ent = ac.historial_ent()\n",
    "    total_ent110 += ent\n",
    "total_ent110/=m"
   ]
  },
  {
   "cell_type": "markdown",
   "metadata": {},
   "source": [
    "##### Gráfico de entropía"
   ]
  },
  {
   "cell_type": "code",
   "execution_count": 458,
   "metadata": {},
   "outputs": [
    {
     "data": {
      "image/png": "[encoded data removed]",
      "text/plain": [
       "<matplotlib.figure.Figure at 0x16e21f017f0>"
      ]
     },
     "metadata": {},
     "output_type": "display_data"
    }
   ],
   "source": [
    "plt.plot(np.arange(0,100), total_ent110)\n",
    "\n",
    "plt.xlabel('Iteracion')\n",
    "plt.ylabel('Entropia')\n",
    "plt.title('Regla 110')\n",
    "plt.grid(True)\n",
    "plt.show()"
   ]
  },
  {
   "cell_type": "markdown",
   "metadata": {},
   "source": [
    "##### Muestra de 100 iteraciones de un AC de tamaño 20"
   ]
  },
  {
   "cell_type": "code",
   "execution_count": 565,
   "metadata": {},
   "outputs": [
    {
     "data": {
      "image/png": "[encoded data removed]",
      "text/plain": [
       "<matplotlib.figure.Figure at 0x16e21e1c7f0>"
      ]
     },
     "metadata": {},
     "output_type": "display_data"
    }
   ],
   "source": [
    "init=random_state(20)\n",
    "ac110 = Autocelu(init, rule110, -1, 1)\n",
    "ac110.iter(100)\n",
    "ac110.view(3)"
   ]
  },
  {
   "cell_type": "markdown",
   "metadata": {},
   "source": [
    "Se observa que la entropía incrementa, luego decae para finalmente aumentar lentamente. En el ejemplo, se observa un comportamiento enventualmente periódico.\n",
    "\n",
    "Dada esta descripción, pertenece a la Clase 2."
   ]
  },
  {
   "cell_type": "markdown",
   "metadata": {},
   "source": [
    "#### Regla 126"
   ]
  },
  {
   "cell_type": "code",
   "execution_count": 459,
   "metadata": {},
   "outputs": [],
   "source": [
    "total_ent126 = np.zeros(100)\n",
    "for i in range(m):\n",
    "    init = random_state(5000)\n",
    "    ac = Autocelu(init, rule126, -1, 1)\n",
    "    ac.iter(100,True)\n",
    "    ent = ac.historial_ent()\n",
    "    total_ent126 += ent\n",
    "total_ent126/=m"
   ]
  },
  {
   "cell_type": "markdown",
   "metadata": {},
   "source": [
    "##### Gráfico de entropía"
   ]
  },
  {
   "cell_type": "code",
   "execution_count": 461,
   "metadata": {},
   "outputs": [
    {
     "data": {
      "image/png": "[encoded data removed]",
      "text/plain": [
       "<matplotlib.figure.Figure at 0x16e21ea4a58>"
      ]
     },
     "metadata": {},
     "output_type": "display_data"
    }
   ],
   "source": [
    "plt.plot(np.arange(0,100), total_ent126)\n",
    "\n",
    "plt.xlabel('Iteracion')\n",
    "plt.ylabel('Entropia')\n",
    "plt.title('Regla 126')\n",
    "plt.grid(True)\n",
    "plt.show()"
   ]
  },
  {
   "cell_type": "markdown",
   "metadata": {},
   "source": [
    "##### Muestra de 100 iteraciones de un AC de tamaño 20"
   ]
  },
  {
   "cell_type": "code",
   "execution_count": 567,
   "metadata": {},
   "outputs": [
    {
     "data": {
      "image/png": "[encoded data removed]",
      "text/plain": [
       "<matplotlib.figure.Figure at 0x16e20bd5908>"
      ]
     },
     "metadata": {},
     "output_type": "display_data"
    }
   ],
   "source": [
    "init=random_state(20)\n",
    "ac126 = Autocelu(init, rule126, -1, 1)\n",
    "ac126.iter(100)\n",
    "ac126.view(3)"
   ]
  },
  {
   "cell_type": "markdown",
   "metadata": {},
   "source": [
    "Comportamiento muy similar al de la regla 110, entropía oscila para finalmente aumentar levemente.\n",
    "\n",
    "Por su periodicidad, pertenece a la Clase 2."
   ]
  },
  {
   "cell_type": "markdown",
   "metadata": {},
   "source": [
    "##### Regla 160"
   ]
  },
  {
   "cell_type": "code",
   "execution_count": 462,
   "metadata": {},
   "outputs": [],
   "source": [
    "total_ent160 = np.zeros(100)\n",
    "for i in range(m):\n",
    "    init = random_state(5000)\n",
    "    ac = Autocelu(init, rule160, -1, 1)\n",
    "    ac.iter(100,True)\n",
    "    ent = ac.historial_ent()\n",
    "    total_ent160 += ent\n",
    "total_ent160/=m"
   ]
  },
  {
   "cell_type": "markdown",
   "metadata": {},
   "source": [
    "##### Gráfico de entropía"
   ]
  },
  {
   "cell_type": "code",
   "execution_count": 464,
   "metadata": {},
   "outputs": [
    {
     "data": {
      "image/png": "[encoded data removed]",
      "text/plain": [
       "<matplotlib.figure.Figure at 0x16e21f4a518>"
      ]
     },
     "metadata": {},
     "output_type": "display_data"
    }
   ],
   "source": [
    "plt.plot(np.arange(0,100), total_ent160)\n",
    "\n",
    "plt.xlabel('Iteracion')\n",
    "plt.ylabel('Entropia')\n",
    "plt.title('Regla 160')\n",
    "plt.grid(True)\n",
    "plt.show()"
   ]
  },
  {
   "cell_type": "markdown",
   "metadata": {},
   "source": [
    "##### Muestra de 100 iteraciones de un AC de tamaño 20"
   ]
  },
  {
   "cell_type": "code",
   "execution_count": 556,
   "metadata": {},
   "outputs": [
    {
     "data": {
      "image/png": "[encoded data removed]",
      "text/plain": [
       "<matplotlib.figure.Figure at 0x16e21fefd30>"
      ]
     },
     "metadata": {},
     "output_type": "display_data"
    }
   ],
   "source": [
    "init=random_state(20)\n",
    "ac160 = Autocelu(init, rule160, -1, 1)\n",
    "ac160.iter(100)\n",
    "ac160.view(3)"
   ]
  },
  {
   "cell_type": "markdown",
   "metadata": {},
   "source": [
    "Comportamiento similar a la regla 108, entropía llega a 0 ya que AC cae en un punto fijo.\n",
    "\n",
    "Pertenece a la Clase 1."
   ]
  },
  {
   "cell_type": "markdown",
   "metadata": {},
   "source": [
    "# Pregunta 10"
   ]
  },
  {
   "cell_type": "code",
   "execution_count": 577,
   "metadata": {},
   "outputs": [
    {
     "data": {
      "image/png": "[encoded data removed]",
      "text/plain": [
       "<matplotlib.figure.Figure at 0x16e20d9fa58>"
      ]
     },
     "metadata": {},
     "output_type": "display_data"
    }
   ],
   "source": [
    "init=random_state(20)\n",
    "ac184 = Autocelu(init, ECArule(184), -1, 1)\n",
    "ac184.iter(100)\n",
    "ac184.view(3)"
   ]
  },
  {
   "cell_type": "code",
   "execution_count": 732,
   "metadata": {},
   "outputs": [],
   "source": [
    "class Traffic:\n",
    "    \n",
    "    def __init__(self, init_t1, init_t2):\n",
    "        # Se asume que ambas vias tienen el mismo largo\n",
    "        self.size = len(init_t1)\n",
    "        # track1 es la via superior, track2 inferior\n",
    "        self.track1 = init_t1\n",
    "        self.track2 = init_t2\n",
    "        # Historial del trafico en las vias\n",
    "        self.hist = [[init_t1, init_t2]]\n",
    "        # Contar ctdad de autos en ambas vias\n",
    "        self.ncars = 0\n",
    "        unique, counts = np.unique(init_t1, return_counts=True)\n",
    "        elements = dict(zip(unique, counts))\n",
    "        if 1 in elements:\n",
    "            self.ncars += elements[1]\n",
    "        unique, counts = np.unique(init_t2, return_counts=True)\n",
    "        elements = dict(zip(unique, counts))\n",
    "        if 1 in elements:\n",
    "            self.ncars += elements[1]\n",
    "        # Densidad = #Autos/Largo_carretera\n",
    "        self.density = self.ncars/self.size\n",
    "        # Historial de flujo\n",
    "        # Flujo inicial es 0\n",
    "        self.flux_hist = [0]\n",
    "    \n",
    "    # Aplicar regla sobre el trackA, observando el trackB\n",
    "    def apply_rule(self, trackA, trackB):\n",
    "        next_trackA = np.zeros(self.size)\n",
    "        next_trackB = np.zeros(self.size)\n",
    "        index = 0\n",
    "        total_v = 0\n",
    "        for pos in trackA:\n",
    "            # v=0\n",
    "            vpos=0\n",
    "            if pos:\n",
    "                der = (index+1)%self.size\n",
    "                izq = (index-1)%self.size\n",
    "                # Si esta vacio a la derecha: avanzar, v=1\n",
    "                if not trackA[der]:\n",
    "                    next_trackA[der] = 1\n",
    "                    vpos=1\n",
    "                # Si no, cambiarse de via\n",
    "                elif not trackB[izq] and not trackB[index]:\n",
    "                    next_trackA[index] = 0\n",
    "                    next_trackB[index] = 1\n",
    "                # Si no, quedarse quieto\n",
    "                else:\n",
    "                    next_trackA[index] = 1\n",
    "            # Velocidad acumulada\n",
    "            total_v+=vpos\n",
    "            index+=1\n",
    "        return (next_trackA, next_trackB, total_v)\n",
    "        \n",
    "    def next(self):\n",
    "        # Aplicar regla a ambas vias\n",
    "        next_track1_, next_track2_, tot_v_ = self.apply_rule(self.track1, self.track2)\n",
    "        next_track2, next_track1, tot_v = self.apply_rule(self.track2, self.track1)\n",
    "        # Juntar resultados\n",
    "        next_track1+=next_track1_\n",
    "        next_track2+=next_track2_\n",
    "        tot_v += tot_v_\n",
    "        # Guardar historial, actualizar trafico\n",
    "        self.hist.append([next_track1, next_track2])\n",
    "        self.track1 = next_track1\n",
    "        self.track2 = next_track2\n",
    "        # Flujo=vel_prom*densidad\n",
    "        self.flux_hist.append(tot_v*self.density/self.ncars)\n",
    "        \n",
    "    def iter(self, n_iter):\n",
    "        for i in range(n_iter):\n",
    "            self.next()\n",
    "    \n",
    "    def show(self, time):\n",
    "        matrix = np.zeros((len(self.hist[time]), self.size),int)\n",
    "        i = 0\n",
    "        for track in self.hist[time]:\n",
    "            matrix[i] = track\n",
    "            i+=1\n",
    "\n",
    "        fig, ax = plt.subplots(figsize=(14,7))\n",
    "        plt.imshow(matrix, cmap='Greys',  interpolation='nearest')\n",
    "        plt.title(\"density: \"+str(self.density)+\"  flux: \"+str(self.flux_hist[time]))\n",
    "        plt.show()\n",
    "    \n",
    "    def show_hist(self):\n",
    "        return self.hist"
   ]
  },
  {
   "cell_type": "code",
   "execution_count": 803,
   "metadata": {},
   "outputs": [],
   "source": [
    "# correr la siguientes 3 celdas para experimentar con distintas\n",
    "#  distribuciones\n",
    "\n",
    "# Generar trafico inicial aleatorio de largo definido por argumento\n",
    "t1,t2 = random_traffic(20) \n",
    "\n",
    "# Definir automata\n",
    "sim1 = Traffic(t1,t2)\n",
    "T = 20 # Tiempo maximo"
   ]
  },
  {
   "cell_type": "code",
   "execution_count": 804,
   "metadata": {},
   "outputs": [],
   "source": [
    "# Iterar T veces\n",
    "sim1.iter(T)"
   ]
  },
  {
   "cell_type": "code",
   "execution_count": 805,
   "metadata": {},
   "outputs": [
    {
     "data": {
      "application/vnd.jupyter.widget-view+json": {
       "model_id": "d0ae13bd99604032a6cffe38cf9c6af1"
      }
     },
     "metadata": {},
     "output_type": "display_data"
    }
   ],
   "source": [
    "interact(sim1.show, time=widgets.IntSlider(min=0,max=T,step=1,value=0));"
   ]
  },
  {
   "cell_type": "markdown",
   "metadata": {},
   "source": [
    "El objeto que se encuentra arriba es un widget y cambia en tiempo real a medida que se ajusta el deslizador.\n",
    "\n",
    "Luego de realizar diversos experimentos se observa que el sistema intenta ajustarse, para evitar 'tacos'. Dentro de esta dinámica se detectan 3 casos:\n",
    "\n",
    "Siendo $\\rho$ la densidad del sistema:\n",
    "\n",
    "* $\\rho\\geq1$: El flujo del sistema converge a $2-\\rho$. No necesariamente llega, depende de la distribución de los autos si es que es capaz de deshacerse de los tacos. \n",
    "* $\\rho<1$: El flujo del sistema converge a $\\rho$.\n",
    "    \n",
    "Respecto a la densidad que maximiza el flujo; se observa empíricamente que los objetos tienden a posicionarse con una distribución de tablero de ajedrez, lo que les permite tener espacio libre hacia adelante, hacia atrás y hace el lado. Otra opción equivalente, es la de dos autos lado a lado, con las casillas de adelante y atrás de cada uno libres. Con esta premisa la densidad que maximiza el flujo corresponderá a $1$, de manera que la cantidad de autos sea igual al largo de la carretera.\n",
    "\n",
    "Finalmente, el automáta luego de cierta cantidad de pasos parece caer en una dinámica periódica inevitablemente."
   ]
  },
  {
   "cell_type": "markdown",
   "metadata": {},
   "source": [
    "# Pregunta 11"
   ]
  },
  {
   "cell_type": "code",
   "execution_count": 831,
   "metadata": {
    "collapsed": true
   },
   "outputs": [],
   "source": [
    "# True si a le gana a b\n",
    "def win(a, b):\n",
    "    c = (a-b)%3\n",
    "    if c==1:\n",
    "        return True\n",
    "    else:\n",
    "        return False"
   ]
  },
  {
   "cell_type": "code",
   "execution_count": 887,
   "metadata": {},
   "outputs": [],
   "source": [
    "# True si a le gana a b\n",
    "def win(a, b):\n",
    "    c = (a-b)%3\n",
    "    if c==1:\n",
    "        return True\n",
    "    else:\n",
    "        return False\n",
    "    \n",
    "class Cachipun:\n",
    "    # 0:Piedra\n",
    "    # 1:Papel\n",
    "    # 2:Tijeras\n",
    "    def __init__(self, init_state):\n",
    "        self.size = init_state.shape[0]\n",
    "        self.state = init_state #size x size matrix\n",
    "        self.hist = [init_state]\n",
    "    \n",
    "    def rule(self, i, j):\n",
    "        \n",
    "        mid = self.state[i][j]\n",
    "        left = self.state[(i-1)%self.size][j]\n",
    "        right = self.state[(i+1)%self.size][j]\n",
    "        top = self.state[i][(j+1)%self.size]\n",
    "        bot = self.state[i][(j-1)%self.size]\n",
    "        \n",
    "        if win(left, mid):\n",
    "            return left\n",
    "        elif win(right, mid):\n",
    "            return right \n",
    "        elif win(top, mid):\n",
    "            return top\n",
    "        elif win(bot, mid):\n",
    "            return bot\n",
    "        else:\n",
    "            return mid\n",
    "        \n",
    "    def next(self):\n",
    "        next_state = np.zeros((self.size, self.size))\n",
    "        \n",
    "        for i in range(self.size):\n",
    "            for j in range(self.size):\n",
    "                next_state[i][j] = self.rule(i, j)\n",
    "                \n",
    "        self.state = next_state\n",
    "        self.hist.append(next_state)\n",
    "    \n",
    "    def iter(self, n_iter):\n",
    "        for i in range(n_iter):\n",
    "            self.next()\n",
    "            \n",
    "    def show_hist(self):\n",
    "        return self.hist\n",
    "    \n",
    "    def show(self, time):\n",
    "        fig, ax = plt.subplots(figsize=(14,7))\n",
    "        # Blanco: piedra\n",
    "        # Gris: papel\n",
    "        # Negro: tijeras\n",
    "        cmap = colors.ListedColormap(['white', 'red', 'black'])\n",
    "        img = plt.imshow(self.hist[time], cmap=cmap,  interpolation='nearest')\n",
    "        plt.colorbar()\n",
    "        plt.title(\"Cachipun\")\n",
    "        plt.show()"
   ]
  },
  {
   "cell_type": "code",
   "execution_count": 888,
   "metadata": {},
   "outputs": [
    {
     "data": {
      "application/vnd.jupyter.widget-view+json": {
       "model_id": "aee6d049eb3a44529b4265341403dcbf"
      }
     },
     "metadata": {},
     "output_type": "display_data"
    }
   ],
   "source": [
    "# Tamaño de la matriz\n",
    "n = 100\n",
    "# Numero de iteraciones\n",
    "T = 100\n",
    "# Distribucion inicial aleatoria\n",
    "init = random_cachipun(n)\n",
    "\n",
    "sim2 = Cachipun(init)\n",
    "sim2.iter(T)\n",
    "interact(sim2.show, time=widgets.IntSlider(min=0,max=T,step=1,value=0));"
   ]
  },
  {
   "cell_type": "markdown",
   "metadata": {},
   "source": [
    "Siempre considerando:\n",
    "\n",
    "* Piedra: 0\n",
    "* Papel: 1\n",
    "* Tijeras: 2\n",
    "\n",
    "Se observa una dinámica bastante estable del sistema, es decir ningún estado prevalece sobre otro. A simple vista, parecen ondas en una superficie de agua.\n",
    "\n",
    "Dado que la regla se puede interpretar como que una celda se propaga si es que le gana a sus vecinos, es posible percibir continuidad de algunos bloques moviéndose en el sistema.\n",
    "\n",
    "De manera más técnica, no parece que esta posea una naturaleza periódica, ni que se acerque a algún punto fijo."
   ]
  },
  {
   "cell_type": "code",
   "execution_count": 889,
   "metadata": {},
   "outputs": [
    {
     "data": {
      "application/vnd.jupyter.widget-view+json": {
       "model_id": "c389a78faa094958a8a74aa5676746d3"
      }
     },
     "metadata": {},
     "output_type": "display_data"
    }
   ],
   "source": [
    "# Tamaño de la matriz\n",
    "n = 100\n",
    "# Numero de iteraciones\n",
    "T = 100\n",
    "# Distribucion homogénea (solo piedras)\n",
    "init = np.zeros((n,n))\n",
    "# Perturbacion (dos papeles en el 'centro')\n",
    "init[int(n/2)][int(n/2)]=1\n",
    "init[int(n/2)][int(n/2)+1]=1\n",
    "sim3 = Cachipun(init)\n",
    "sim3.iter(T)\n",
    "interact(sim3.show, time=widgets.IntSlider(min=0,max=T,step=1,value=0));"
   ]
  },
  {
   "cell_type": "markdown",
   "metadata": {},
   "source": [
    "Con una distribución inicial de solo piedras, excepto dos papeles en el centro, se tiene que este estado domina el tablero luego de 100 iteraciones, esto por razones obvias (papel le gana a la piedra). \n",
    "\n",
    "Hacia el final de la simulación los colores cambiar por el escalamiento que realiza el algoritmo, pero se puede seguir la pista de lo que sucede observando la leyenda del costado."
   ]
  },
  {
   "cell_type": "code",
   "execution_count": 893,
   "metadata": {},
   "outputs": [
    {
     "data": {
      "application/vnd.jupyter.widget-view+json": {
       "model_id": "fce376e6187c4b4a84a34f1da104b775"
      }
     },
     "metadata": {},
     "output_type": "display_data"
    }
   ],
   "source": [
    "# Tamaño de la matriz\n",
    "n = 100\n",
    "# Numero de iteraciones\n",
    "T = 100\n",
    "# Distribucion homogénea (solo piedras)\n",
    "init = np.zeros((n,n))\n",
    "# Perturbacion (dos papeles en el 'centro')\n",
    "init[int(n/2)][int(n/2)]=1\n",
    "init[int(n/2)][int(n/2)+1]=1\n",
    "# 'Caja' de tijeras\n",
    "init[int(n/2)-1][:]=2\n",
    "sim4 = Cachipun(init)\n",
    "sim4.iter(T)\n",
    "interact(sim4.show, time=widgets.IntSlider(min=0,max=T,step=1,value=0));"
   ]
  },
  {
   "cell_type": "markdown",
   "metadata": {},
   "source": [
    "Para probar qué sucede con la inclusión de un tercer elemento, se añade una franja de tijeras en contacto los dos papeles (de otra forma las piedras consumirían la franja).\n",
    "\n",
    "El resultado es un patrón bastante vistoso, que tiene una naturaleza periódica y se apodera del tablero luego de 100 iteraciones. Destaca el hecho de que las tres clases parecen llegar a cierto equilibrio."
   ]
  },
  {
   "cell_type": "code",
   "execution_count": null,
   "metadata": {
    "collapsed": true
   },
   "outputs": [],
   "source": []
  }
 ],
 "metadata": {
  "kernelspec": {
   "display_name": "Python 3",
   "language": "python",
   "name": "python3"
  },
  "language_info": {
   "codemirror_mode": {
    "name": "ipython",
    "version": 3
   },
   "file_extension": ".py",
   "mimetype": "text/x-python",
   "name": "python",
   "nbconvert_exporter": "python",
   "pygments_lexer": "ipython3",
   "version": "3.6.1"
  },
  "widgets": {
   "application/vnd.jupyter.widget-state+json": {
    "state": {
     "01d1500b347e4c47a229fad1814eeeca": {
      "model_module": "jupyter-js-widgets",
      "model_module_version": "~2.1.4",
      "model_name": "OutputModel",
      "state": {
       "_dom_classes": [],
       "_model_module": "jupyter-js-widgets",
       "_model_module_version": "~2.1.4",
       "_view_module": "jupyter-js-widgets",
       "_view_module_version": "~2.1.4",
       "layout": "IPY_MODEL_5270237cefc54d33aab52dce9c49f8b9",
       "msg_throttle": 1
      }
     },
     "01df400ab4da4fbd937ba6759abc1a45": {
      "model_module": "jupyter-js-widgets",
      "model_module_version": "~2.1.4",
      "model_name": "IntSliderModel",
      "state": {
       "_model_module_version": "~2.1.4",
       "_view_module_version": "~2.1.4",
       "description": "time",
       "layout": "IPY_MODEL_c8304e3e3bc34629809d2a45310b9817",
       "style": "IPY_MODEL_7961228042204dfc8792b095fa49481b",
       "value": 100
      }
     },
     "024617f744024e7ebf65ec903d754fe2": {
      "model_module": "jupyter-js-widgets",
      "model_module_version": "~2.1.4",
      "model_name": "IntSliderModel",
      "state": {
       "_model_module_version": "~2.1.4",
       "_view_module_version": "~2.1.4",
       "description": "time",
       "layout": "IPY_MODEL_a423887f895a4cf9b68e21e56e0a3eb0",
       "max": 20,
       "style": "IPY_MODEL_03f9f9420d144fc3b71de770e31c69d3",
       "value": 20
      }
     },
     "025d61d57e1a4833b7c64b6c3b5d7ba6": {
      "model_module": "jupyter-js-widgets",
      "model_module_version": "~2.1.4",
      "model_name": "IntSliderModel",
      "state": {
       "_model_module_version": "~2.1.4",
       "_view_module_version": "~2.1.4",
       "description": "time",
       "layout": "IPY_MODEL_c620b5f75c8f470bacb2b75f5ac57402",
       "max": 10,
       "style": "IPY_MODEL_a117eb59af764301a449544fb9110bfd"
      }
     },
     "02bcc7572d55458baa5570d39e63eefa": {
      "model_module": "jupyter-js-widgets",
      "model_module_version": "~2.1.4",
      "model_name": "LayoutModel",
      "state": {
       "_model_module_version": "~2.1.4",
       "_view_module_version": "~2.1.4"
      }
     },
     "03258c9723e5422bb12799f04573c760": {
      "model_module": "jupyter-js-widgets",
      "model_module_version": "~2.1.4",
      "model_name": "VBoxModel",
      "state": {
       "_dom_classes": [
        "widget-interact"
       ],
       "_model_module_version": "~2.1.4",
       "_view_module_version": "~2.1.4",
       "children": [
        "IPY_MODEL_9a443e1432aa446b988b65f6b342a0d7",
        "IPY_MODEL_190af61ebb9847ebbb6301105adaa54d"
       ],
       "layout": "IPY_MODEL_1e219e64f71741679e62bbc733d8cac5"
      }
     },
     "0333c0dcbe1343869784501308297a94": {
      "model_module": "jupyter-js-widgets",
      "model_module_version": "~2.1.4",
      "model_name": "IntSliderModel",
      "state": {
       "_model_module_version": "~2.1.4",
       "_view_module_version": "~2.1.4",
       "description": "time",
       "layout": "IPY_MODEL_1ed7807d66ae42d0a70fc5fc13f3b00e",
       "max": 20,
       "style": "IPY_MODEL_5de3ae20914e480983743b3c87cc2ae5",
       "value": 20
      }
     },
     "03e1b16dcc8f458d97d0070331f82e15": {
      "model_module": "jupyter-js-widgets",
      "model_module_version": "~2.1.4",
      "model_name": "LayoutModel",
      "state": {
       "_model_module_version": "~2.1.4",
       "_view_module_version": "~2.1.4"
      }
     },
     "03f9f9420d144fc3b71de770e31c69d3": {
      "model_module": "jupyter-js-widgets",
      "model_module_version": "~2.1.4",
      "model_name": "SliderStyleModel",
      "state": {
       "_model_module_version": "~2.1.4",
       "_view_module_version": "~2.1.4"
      }
     },
     "051346f9ecd94856a9cc8741bd7e11b2": {
      "model_module": "jupyter-js-widgets",
      "model_module_version": "~2.1.4",
      "model_name": "LayoutModel",
      "state": {
       "_model_module_version": "~2.1.4",
       "_view_module_version": "~2.1.4"
      }
     },
     "0598bac449f94269abd065230cf441be": {
      "model_module": "jupyter-js-widgets",
      "model_module_version": "~2.1.4",
      "model_name": "LayoutModel",
      "state": {
       "_model_module_version": "~2.1.4",
       "_view_module_version": "~2.1.4"
      }
     },
     "05be8dbb7e8f457fb3c467a89a55f7de": {
      "model_module": "jupyter-js-widgets",
      "model_module_version": "~2.1.4",
      "model_name": "VBoxModel",
      "state": {
       "_dom_classes": [
        "widget-interact"
       ],
       "_model_module_version": "~2.1.4",
       "_view_module_version": "~2.1.4",
       "children": [
        "IPY_MODEL_43af5dd009c74935896d1b50bec282d7",
        "IPY_MODEL_e2f4e56df3c446b1bc752729bcce9e62"
       ],
       "layout": "IPY_MODEL_e1077be0a9424fc19915d773f0c1d0b0"
      }
     },
     "064f00c379ff47919e754755ce3bb29c": {
      "model_module": "jupyter-js-widgets",
      "model_module_version": "~2.1.4",
      "model_name": "VBoxModel",
      "state": {
       "_dom_classes": [
        "widget-interact"
       ],
       "_model_module_version": "~2.1.4",
       "_view_module_version": "~2.1.4",
       "children": [
        "IPY_MODEL_2d2af16242874889901fc35dcc155fe7",
        "IPY_MODEL_380087714f61438d890bdb7ebaebdb4a"
       ],
       "layout": "IPY_MODEL_d56f94d1146543be85ecc56107ed8f80"
      }
     },
     "06ce175796a142378803d8c6181cf246": {
      "model_module": "jupyter-js-widgets",
      "model_module_version": "~2.1.4",
      "model_name": "SliderStyleModel",
      "state": {
       "_model_module_version": "~2.1.4",
       "_view_module_version": "~2.1.4"
      }
     },
     "0735bc6937284f66bba3317825dd31ca": {
      "model_module": "jupyter-js-widgets",
      "model_module_version": "~2.1.4",
      "model_name": "VBoxModel",
      "state": {
       "_dom_classes": [
        "widget-interact"
       ],
       "_model_module_version": "~2.1.4",
       "_view_module_version": "~2.1.4",
       "children": [
        "IPY_MODEL_0993f84ba4ab4237821f786f529e18f8",
        "IPY_MODEL_677c328106994d789a3ab0111a6b6761"
       ],
       "layout": "IPY_MODEL_d56d4c25cf2242eea6bdcf6a0466b4eb"
      }
     },
     "07a036a68f7246ac98d9e6c474fbaffb": {
      "model_module": "jupyter-js-widgets",
      "model_module_version": "~2.1.4",
      "model_name": "VBoxModel",
      "state": {
       "_dom_classes": [
        "widget-interact"
       ],
       "_model_module_version": "~2.1.4",
       "_view_module_version": "~2.1.4",
       "children": [
        "IPY_MODEL_ba37cd08ba1d4d84828e61b77de58876",
        "IPY_MODEL_25ef6b75d7db4a6ca0846c8042318675"
       ],
       "layout": "IPY_MODEL_53080ae5c10b44008b678b14eb82ad96"
      }
     },
     "07f66bf584454215b54d0fe3fa766f3e": {
      "model_module": "jupyter-js-widgets",
      "model_module_version": "~2.1.4",
      "model_name": "LayoutModel",
      "state": {
       "_model_module_version": "~2.1.4",
       "_view_module_version": "~2.1.4"
      }
     },
     "0970d4b964504e0eb47711bbe8ea9c26": {
      "model_module": "jupyter-js-widgets",
      "model_module_version": "~2.1.4",
      "model_name": "SliderStyleModel",
      "state": {
       "_model_module_version": "~2.1.4",
       "_view_module_version": "~2.1.4"
      }
     },
     "0993f84ba4ab4237821f786f529e18f8": {
      "model_module": "jupyter-js-widgets",
      "model_module_version": "~2.1.4",
      "model_name": "IntSliderModel",
      "state": {
       "_model_module_version": "~2.1.4",
       "_view_module_version": "~2.1.4",
       "description": "time",
       "layout": "IPY_MODEL_92a6cb4b7dd0411d91464b0d7cac28e2",
       "max": 20,
       "style": "IPY_MODEL_9bcd3c9575f94c328712f25c65182210",
       "value": 20
      }
     },
     "0a150323978b452dbd7edff4173637d5": {
      "model_module": "jupyter-js-widgets",
      "model_module_version": "~2.1.4",
      "model_name": "LayoutModel",
      "state": {
       "_model_module_version": "~2.1.4",
       "_view_module_version": "~2.1.4"
      }
     },
     "0a21399416f84779a0b9a983e02311bd": {
      "model_module": "jupyter-js-widgets",
      "model_module_version": "~2.1.4",
      "model_name": "SliderStyleModel",
      "state": {
       "_model_module_version": "~2.1.4",
       "_view_module_version": "~2.1.4"
      }
     },
     "0acdc96a82654303a4f4d839c67b7605": {
      "model_module": "jupyter-js-widgets",
      "model_module_version": "~2.1.4",
      "model_name": "OutputModel",
      "state": {
       "_dom_classes": [],
       "_model_module": "jupyter-js-widgets",
       "_model_module_version": "~2.1.4",
       "_view_module": "jupyter-js-widgets",
       "_view_module_version": "~2.1.4",
       "layout": "IPY_MODEL_0a150323978b452dbd7edff4173637d5",
       "msg_throttle": 1
      }
     },
     "0b8fc769eba14e7599c76418ee55fdfb": {
      "model_module": "jupyter-js-widgets",
      "model_module_version": "~2.1.4",
      "model_name": "LayoutModel",
      "state": {
       "_model_module_version": "~2.1.4",
       "_view_module_version": "~2.1.4"
      }
     },
     "0bbc9f73b35d4344a0604e470b4329d4": {
      "model_module": "jupyter-js-widgets",
      "model_module_version": "~2.1.4",
      "model_name": "LayoutModel",
      "state": {
       "_model_module_version": "~2.1.4",
       "_view_module_version": "~2.1.4"
      }
     },
     "0bbe7cf2236c483392ce1e07ab9e8aa6": {
      "model_module": "jupyter-js-widgets",
      "model_module_version": "~2.1.4",
      "model_name": "VBoxModel",
      "state": {
       "_dom_classes": [
        "widget-interact"
       ],
       "_model_module_version": "~2.1.4",
       "_view_module_version": "~2.1.4",
       "children": [
        "IPY_MODEL_74d82e460bf7439895eed32092ee3f92",
        "IPY_MODEL_41fbfa5a01344eebaebb424acd5b9175"
       ],
       "layout": "IPY_MODEL_2549c5640f0748b38fc2778e4ea19cdf"
      }
     },
     "0be0fd0d573647e3a8189dd0ec44b910": {
      "model_module": "jupyter-js-widgets",
      "model_module_version": "~2.1.4",
      "model_name": "VBoxModel",
      "state": {
       "_dom_classes": [
        "widget-interact"
       ],
       "_model_module_version": "~2.1.4",
       "_view_module_version": "~2.1.4",
       "children": [
        "IPY_MODEL_6cbe7c8cb68c4ba9b9d3ab493e174aef",
        "IPY_MODEL_0c39c93b9643485aa7b959b10df4db43"
       ],
       "layout": "IPY_MODEL_ab8268a83b0249deaf214b431797c23f"
      }
     },
     "0c0ffb7070964b3ab0baadfb3a6a73a3": {
      "model_module": "jupyter-js-widgets",
      "model_module_version": "~2.1.4",
      "model_name": "LayoutModel",
      "state": {
       "_model_module_version": "~2.1.4",
       "_view_module_version": "~2.1.4"
      }
     },
     "0c39c93b9643485aa7b959b10df4db43": {
      "model_module": "jupyter-js-widgets",
      "model_module_version": "~2.1.4",
      "model_name": "OutputModel",
      "state": {
       "_dom_classes": [],
       "_model_module": "jupyter-js-widgets",
       "_model_module_version": "~2.1.4",
       "_view_module": "jupyter-js-widgets",
       "_view_module_version": "~2.1.4",
       "layout": "IPY_MODEL_ba4e27f26d8f44369eb8eb82c449e5fb",
       "msg_throttle": 1
      }
     },
     "0cc6e1b014ba46e6b10f235f839480f0": {
      "model_module": "jupyter-js-widgets",
      "model_module_version": "~2.1.4",
      "model_name": "VBoxModel",
      "state": {
       "_dom_classes": [
        "widget-interact"
       ],
       "_model_module_version": "~2.1.4",
       "_view_module_version": "~2.1.4",
       "children": [
        "IPY_MODEL_5d45e8d2476748f9a9bf83803e94c71a",
        "IPY_MODEL_a49c5f563d754a34b7af8db7aab7312f"
       ],
       "layout": "IPY_MODEL_94e801359e9940f0a7ffcf6c3f80d351"
      }
     },
     "0e5d291694db4abd931ffcfdc749d00a": {
      "model_module": "jupyter-js-widgets",
      "model_module_version": "~2.1.4",
      "model_name": "LayoutModel",
      "state": {
       "_model_module_version": "~2.1.4",
       "_view_module_version": "~2.1.4"
      }
     },
     "0e83c75416b64ea482c7a4145471c045": {
      "model_module": "jupyter-js-widgets",
      "model_module_version": "~2.1.4",
      "model_name": "SliderStyleModel",
      "state": {
       "_model_module_version": "~2.1.4",
       "_view_module_version": "~2.1.4"
      }
     },
     "106fdaae515a47b181d4327fd7214c9e": {
      "model_module": "jupyter-js-widgets",
      "model_module_version": "~2.1.4",
      "model_name": "LayoutModel",
      "state": {
       "_model_module_version": "~2.1.4",
       "_view_module_version": "~2.1.4"
      }
     },
     "108242a72feb4ca8a819433eee3c4dd2": {
      "model_module": "jupyter-js-widgets",
      "model_module_version": "~2.1.4",
      "model_name": "LayoutModel",
      "state": {
       "_model_module_version": "~2.1.4",
       "_view_module_version": "~2.1.4"
      }
     },
     "1128580795274ad8974dc9f1625a1453": {
      "model_module": "jupyter-js-widgets",
      "model_module_version": "~2.1.4",
      "model_name": "LayoutModel",
      "state": {
       "_model_module_version": "~2.1.4",
       "_view_module_version": "~2.1.4"
      }
     },
     "13955efe0d5c4a10ba971d0eca80e9b2": {
      "model_module": "jupyter-js-widgets",
      "model_module_version": "~2.1.4",
      "model_name": "VBoxModel",
      "state": {
       "_dom_classes": [
        "widget-interact"
       ],
       "_model_module_version": "~2.1.4",
       "_view_module_version": "~2.1.4",
       "children": [
        "IPY_MODEL_4f9a0a96122b43118a33c43944319972",
        "IPY_MODEL_7351fc561d03466bbfebf7b062c286a4"
       ],
       "layout": "IPY_MODEL_cfc716e1e31e4674a1c4eda658d73165"
      }
     },
     "14c1b78b960646519c10a92ae396e5b6": {
      "model_module": "jupyter-js-widgets",
      "model_module_version": "~2.1.4",
      "model_name": "SliderStyleModel",
      "state": {
       "_model_module_version": "~2.1.4",
       "_view_module_version": "~2.1.4"
      }
     },
     "17de11fec4b74d33aa0fbcbc74b47f91": {
      "model_module": "jupyter-js-widgets",
      "model_module_version": "~2.1.4",
      "model_name": "LayoutModel",
      "state": {
       "_model_module_version": "~2.1.4",
       "_view_module_version": "~2.1.4"
      }
     },
     "17ec043d7aa442648c3a30f0327976fc": {
      "model_module": "jupyter-js-widgets",
      "model_module_version": "~2.1.4",
      "model_name": "IntSliderModel",
      "state": {
       "_model_module_version": "~2.1.4",
       "_view_module_version": "~2.1.4",
       "description": "time",
       "layout": "IPY_MODEL_32fefca3e09147a1a2d2d92d3c433384",
       "max": 20,
       "style": "IPY_MODEL_b84a3c743b2949ad9c011b5a2112b16d",
       "value": 20
      }
     },
     "181ef81495dd43c48ed715e6a84387d5": {
      "model_module": "jupyter-js-widgets",
      "model_module_version": "~2.1.4",
      "model_name": "IntSliderModel",
      "state": {
       "_model_module_version": "~2.1.4",
       "_view_module_version": "~2.1.4",
       "description": "time",
       "layout": "IPY_MODEL_07f66bf584454215b54d0fe3fa766f3e",
       "max": 10,
       "style": "IPY_MODEL_4bd129103c414d0e939b22a655f29b34"
      }
     },
     "18cb068c0d2e45bc8e911479358597aa": {
      "model_module": "jupyter-js-widgets",
      "model_module_version": "~2.1.4",
      "model_name": "IntSliderModel",
      "state": {
       "_model_module_version": "~2.1.4",
       "_view_module_version": "~2.1.4",
       "description": "time",
       "layout": "IPY_MODEL_106fdaae515a47b181d4327fd7214c9e",
       "max": 20,
       "style": "IPY_MODEL_0e83c75416b64ea482c7a4145471c045",
       "value": 20
      }
     },
     "18f1d1a264b049eaa0ba46637f430d0b": {
      "model_module": "jupyter-js-widgets",
      "model_module_version": "~2.1.4",
      "model_name": "VBoxModel",
      "state": {
       "_dom_classes": [
        "widget-interact"
       ],
       "_model_module_version": "~2.1.4",
       "_view_module_version": "~2.1.4",
       "children": [
        "IPY_MODEL_9c6eb57107684492bcb23d7ca9c3c746",
        "IPY_MODEL_6cd9408234be4fe69d602a99fb269071"
       ],
       "layout": "IPY_MODEL_fdcb028af9774fbfbaa8726491cc9af0"
      }
     },
     "190af61ebb9847ebbb6301105adaa54d": {
      "model_module": "jupyter-js-widgets",
      "model_module_version": "~2.1.4",
      "model_name": "OutputModel",
      "state": {
       "_dom_classes": [],
       "_model_module": "jupyter-js-widgets",
       "_model_module_version": "~2.1.4",
       "_view_module": "jupyter-js-widgets",
       "_view_module_version": "~2.1.4",
       "layout": "IPY_MODEL_c026fc78e8044527939e3f7d7b9cb571",
       "msg_throttle": 1
      }
     },
     "19121b7d8e174971b5e261d0200cfd96": {
      "model_module": "jupyter-js-widgets",
      "model_module_version": "~2.1.4",
      "model_name": "IntSliderModel",
      "state": {
       "_model_module_version": "~2.1.4",
       "_view_module_version": "~2.1.4",
       "description": "time",
       "layout": "IPY_MODEL_c88de710ed89422c923cc223338a7d46",
       "max": 20,
       "style": "IPY_MODEL_e6cdef8761914220ae21d06fcb00e3f5",
       "value": 20
      }
     },
     "1944682fc21a445ea7aeed2eb95e6e5f": {
      "model_module": "jupyter-js-widgets",
      "model_module_version": "~2.1.4",
      "model_name": "IntSliderModel",
      "state": {
       "_model_module_version": "~2.1.4",
       "_view_module_version": "~2.1.4",
       "description": "time",
       "layout": "IPY_MODEL_03e1b16dcc8f458d97d0070331f82e15",
       "style": "IPY_MODEL_76462fdad7ad49aa8fe4ca50efb42646"
      }
     },
     "1a54f32045844781aebb9cb3b96586cc": {
      "model_module": "jupyter-js-widgets",
      "model_module_version": "~2.1.4",
      "model_name": "VBoxModel",
      "state": {
       "_dom_classes": [
        "widget-interact"
       ],
       "_model_module_version": "~2.1.4",
       "_view_module_version": "~2.1.4",
       "children": [
        "IPY_MODEL_63912efa44dd4cfaba48f87cf88971b7",
        "IPY_MODEL_bd76cd9c427d4dc1a919dce32e983296"
       ],
       "layout": "IPY_MODEL_c2d7c71fcb5848ca82f5645a639f901d"
      }
     },
     "1ae02e1c1f3444aeb64c4e5f978ab75c": {
      "model_module": "jupyter-js-widgets",
      "model_module_version": "~2.1.4",
      "model_name": "LayoutModel",
      "state": {
       "_model_module_version": "~2.1.4",
       "_view_module_version": "~2.1.4"
      }
     },
     "1bb96730f6c54c1e9474b848adbc83cb": {
      "model_module": "jupyter-js-widgets",
      "model_module_version": "~2.1.4",
      "model_name": "LayoutModel",
      "state": {
       "_model_module_version": "~2.1.4",
       "_view_module_version": "~2.1.4"
      }
     },
     "1e219e64f71741679e62bbc733d8cac5": {
      "model_module": "jupyter-js-widgets",
      "model_module_version": "~2.1.4",
      "model_name": "LayoutModel",
      "state": {
       "_model_module_version": "~2.1.4",
       "_view_module_version": "~2.1.4"
      }
     },
     "1e42ac04bdd54266ab801d3ccd8682ae": {
      "model_module": "jupyter-js-widgets",
      "model_module_version": "~2.1.4",
      "model_name": "LayoutModel",
      "state": {
       "_model_module_version": "~2.1.4",
       "_view_module_version": "~2.1.4"
      }
     },
     "1ed7807d66ae42d0a70fc5fc13f3b00e": {
      "model_module": "jupyter-js-widgets",
      "model_module_version": "~2.1.4",
      "model_name": "LayoutModel",
      "state": {
       "_model_module_version": "~2.1.4",
       "_view_module_version": "~2.1.4"
      }
     },
     "1f06f2c2e8fa4257a0889e4bd59726d7": {
      "model_module": "jupyter-js-widgets",
      "model_module_version": "~2.1.4",
      "model_name": "LayoutModel",
      "state": {
       "_model_module_version": "~2.1.4",
       "_view_module_version": "~2.1.4"
      }
     },
     "1f5628a9801641a99af432ea96684264": {
      "model_module": "jupyter-js-widgets",
      "model_module_version": "~2.1.4",
      "model_name": "IntSliderModel",
      "state": {
       "_model_module_version": "~2.1.4",
       "_view_module_version": "~2.1.4",
       "description": "time",
       "layout": "IPY_MODEL_e9c883a6d48b4345a76153f697320684",
       "max": 10,
       "style": "IPY_MODEL_733b7e73fa1d4110802ff42c58f97f39"
      }
     },
     "1fa84daa30784968a0f162a73ee16750": {
      "model_module": "jupyter-js-widgets",
      "model_module_version": "~2.1.4",
      "model_name": "LayoutModel",
      "state": {
       "_model_module_version": "~2.1.4",
       "_view_module_version": "~2.1.4"
      }
     },
     "20b3687f64d24b5ab0e16c7450a530ec": {
      "model_module": "jupyter-js-widgets",
      "model_module_version": "~2.1.4",
      "model_name": "VBoxModel",
      "state": {
       "_dom_classes": [
        "widget-interact"
       ],
       "_model_module_version": "~2.1.4",
       "_view_module_version": "~2.1.4",
       "children": [
        "IPY_MODEL_181ef81495dd43c48ed715e6a84387d5",
        "IPY_MODEL_b108eb0b13e34495afbe6acd654ca01f"
       ],
       "layout": "IPY_MODEL_787e2e86af01407fbd3e0c4efc3feefd"
      }
     },
     "215626d17d724ac29bb83ec2ffab3378": {
      "model_module": "jupyter-js-widgets",
      "model_module_version": "~2.1.4",
      "model_name": "IntSliderModel",
      "state": {
       "_model_module_version": "~2.1.4",
       "_view_module_version": "~2.1.4",
       "description": "time",
       "layout": "IPY_MODEL_ea0d2a3a15404bc688b138c7f13da95f",
       "max": 20,
       "style": "IPY_MODEL_2db2a508e0e14701b2b4bb8ba3a9c13b",
       "value": 20
      }
     },
     "2336aa5ff4414d088b7fd0cbf0d20f24": {
      "model_module": "jupyter-js-widgets",
      "model_module_version": "~2.1.4",
      "model_name": "IntSliderModel",
      "state": {
       "_model_module_version": "~2.1.4",
       "_view_module_version": "~2.1.4",
       "description": "time",
       "layout": "IPY_MODEL_6f2262e67e054b6ab7539203a5c2d3cc",
       "max": 20,
       "style": "IPY_MODEL_8d5595d63b4e42648f171849c2bdf767"
      }
     },
     "239652929f8c41079d3f67041e613de4": {
      "model_module": "jupyter-js-widgets",
      "model_module_version": "~2.1.4",
      "model_name": "SliderStyleModel",
      "state": {
       "_model_module_version": "~2.1.4",
       "_view_module_version": "~2.1.4"
      }
     },
     "24f2417fa5a44b5387e048f936179f2a": {
      "model_module": "jupyter-js-widgets",
      "model_module_version": "~2.1.4",
      "model_name": "OutputModel",
      "state": {
       "_dom_classes": [],
       "_model_module": "jupyter-js-widgets",
       "_model_module_version": "~2.1.4",
       "_view_module": "jupyter-js-widgets",
       "_view_module_version": "~2.1.4",
       "layout": "IPY_MODEL_3c0572f30c6949edb6c8e8c5bd651198",
       "msg_throttle": 1
      }
     },
     "2549c5640f0748b38fc2778e4ea19cdf": {
      "model_module": "jupyter-js-widgets",
      "model_module_version": "~2.1.4",
      "model_name": "LayoutModel",
      "state": {
       "_model_module_version": "~2.1.4",
       "_view_module_version": "~2.1.4"
      }
     },
     "25e17ed6a3de49c2a530f238277fa434": {
      "model_module": "jupyter-js-widgets",
      "model_module_version": "~2.1.4",
      "model_name": "VBoxModel",
      "state": {
       "_dom_classes": [
        "widget-interact"
       ],
       "_model_module_version": "~2.1.4",
       "_view_module_version": "~2.1.4",
       "children": [
        "IPY_MODEL_f6a57d4882d943d68fd9a534565ae42b",
        "IPY_MODEL_89208782bed8476aa43613eb67fa2680"
       ],
       "layout": "IPY_MODEL_ddfdd9f2a5034c60a4c51b48d4771e96"
      }
     },
     "25ef6b75d7db4a6ca0846c8042318675": {
      "model_module": "jupyter-js-widgets",
      "model_module_version": "~2.1.4",
      "model_name": "OutputModel",
      "state": {
       "_dom_classes": [],
       "_model_module": "jupyter-js-widgets",
       "_model_module_version": "~2.1.4",
       "_view_module": "jupyter-js-widgets",
       "_view_module_version": "~2.1.4",
       "layout": "IPY_MODEL_1bb96730f6c54c1e9474b848adbc83cb",
       "msg_throttle": 1
      }
     },
     "263a8f368e9d468b9f5063e8ba73b006": {
      "model_module": "jupyter-js-widgets",
      "model_module_version": "~2.1.4",
      "model_name": "SliderStyleModel",
      "state": {
       "_model_module_version": "~2.1.4",
       "_view_module_version": "~2.1.4"
      }
     },
     "266400cd41734f62a9dec38bbc307481": {
      "model_module": "jupyter-js-widgets",
      "model_module_version": "~2.1.4",
      "model_name": "OutputModel",
      "state": {
       "_dom_classes": [],
       "_model_module": "jupyter-js-widgets",
       "_model_module_version": "~2.1.4",
       "_view_module": "jupyter-js-widgets",
       "_view_module_version": "~2.1.4",
       "layout": "IPY_MODEL_bc6581f9a6c84872bfcfcfafa3d1bbf8",
       "msg_throttle": 1
      }
     },
     "268f66c6b1324f268751e3bbafd53c86": {
      "model_module": "jupyter-js-widgets",
      "model_module_version": "~2.1.4",
      "model_name": "LayoutModel",
      "state": {
       "_model_module_version": "~2.1.4",
       "_view_module_version": "~2.1.4"
      }
     },
     "274ff7d7e52c47c58d93633eec3e8ab0": {
      "model_module": "jupyter-js-widgets",
      "model_module_version": "~2.1.4",
      "model_name": "LayoutModel",
      "state": {
       "_model_module_version": "~2.1.4",
       "_view_module_version": "~2.1.4"
      }
     },
     "29ad3a4b70d24041bbbadb639a4cd1fa": {
      "model_module": "jupyter-js-widgets",
      "model_module_version": "~2.1.4",
      "model_name": "IntSliderModel",
      "state": {
       "_model_module_version": "~2.1.4",
       "_view_module_version": "~2.1.4",
       "description": "time",
       "layout": "IPY_MODEL_63a6dde6720843418801dc6a1fc4ba38",
       "max": 40,
       "style": "IPY_MODEL_42e030c9f7eb42c9b6eb5c22c3a2cfca",
       "value": 40
      }
     },
     "2a5dfc80b7f144ed9a103b887c22f8cb": {
      "model_module": "jupyter-js-widgets",
      "model_module_version": "~2.1.4",
      "model_name": "VBoxModel",
      "state": {
       "_dom_classes": [
        "widget-interact"
       ],
       "_model_module_version": "~2.1.4",
       "_view_module_version": "~2.1.4",
       "children": [
        "IPY_MODEL_df19edacce384b5f8f7820fc2ff48e48",
        "IPY_MODEL_24f2417fa5a44b5387e048f936179f2a"
       ],
       "layout": "IPY_MODEL_fbea8529b34a4f99954ca4ea13c9ea82"
      }
     },
     "2a7b6e9a337e440a95dcbfe1a46cfe4f": {
      "model_module": "jupyter-js-widgets",
      "model_module_version": "~2.1.4",
      "model_name": "LayoutModel",
      "state": {
       "_model_module_version": "~2.1.4",
       "_view_module_version": "~2.1.4"
      }
     },
     "2a83751eb6cc458e89808d56642ad394": {
      "model_module": "jupyter-js-widgets",
      "model_module_version": "~2.1.4",
      "model_name": "SliderStyleModel",
      "state": {
       "_model_module_version": "~2.1.4",
       "_view_module_version": "~2.1.4"
      }
     },
     "2b64510c5f7e4c1aaac11bfa040177b7": {
      "model_module": "jupyter-js-widgets",
      "model_module_version": "~2.1.4",
      "model_name": "LayoutModel",
      "state": {
       "_model_module_version": "~2.1.4",
       "_view_module_version": "~2.1.4"
      }
     },
     "2ba8cdb0fa594d0a8ed731a284e77b38": {
      "model_module": "jupyter-js-widgets",
      "model_module_version": "~2.1.4",
      "model_name": "LayoutModel",
      "state": {
       "_model_module_version": "~2.1.4",
       "_view_module_version": "~2.1.4"
      }
     },
     "2cd98000c6cb48d79eaafb26e90fc0a8": {
      "model_module": "jupyter-js-widgets",
      "model_module_version": "~2.1.4",
      "model_name": "LayoutModel",
      "state": {
       "_model_module_version": "~2.1.4",
       "_view_module_version": "~2.1.4"
      }
     },
     "2d2af16242874889901fc35dcc155fe7": {
      "model_module": "jupyter-js-widgets",
      "model_module_version": "~2.1.4",
      "model_name": "IntSliderModel",
      "state": {
       "_model_module_version": "~2.1.4",
       "_view_module_version": "~2.1.4",
       "description": "time",
       "layout": "IPY_MODEL_5b489bbcf6b34596baa2ebad4cbe8141",
       "max": 20,
       "style": "IPY_MODEL_c188433feef3477cb570f1bd5ffb660d"
      }
     },
     "2db2a508e0e14701b2b4bb8ba3a9c13b": {
      "model_module": "jupyter-js-widgets",
      "model_module_version": "~2.1.4",
      "model_name": "SliderStyleModel",
      "state": {
       "_model_module_version": "~2.1.4",
       "_view_module_version": "~2.1.4"
      }
     },
     "2ed617b809b347a9b1f1a201fca5e1ff": {
      "model_module": "jupyter-js-widgets",
      "model_module_version": "~2.1.4",
      "model_name": "LayoutModel",
      "state": {
       "_model_module_version": "~2.1.4",
       "_view_module_version": "~2.1.4"
      }
     },
     "2f061965fd3a463abbd1c4b8aa0f1793": {
      "model_module": "jupyter-js-widgets",
      "model_module_version": "~2.1.4",
      "model_name": "LayoutModel",
      "state": {
       "_model_module_version": "~2.1.4",
       "_view_module_version": "~2.1.4"
      }
     },
     "2f3786f341f04438a760d2f7c42f5177": {
      "model_module": "jupyter-js-widgets",
      "model_module_version": "~2.1.4",
      "model_name": "VBoxModel",
      "state": {
       "_dom_classes": [
        "widget-interact"
       ],
       "_model_module_version": "~2.1.4",
       "_view_module_version": "~2.1.4",
       "children": [
        "IPY_MODEL_cc3c08aea20e44678d86fdeb50bd4c15",
        "IPY_MODEL_e6f3067b9931447896aeed53377c68f6"
       ],
       "layout": "IPY_MODEL_bbb852dde6ca43cfbcdf3dd2d74271bf"
      }
     },
     "2fe96f72231c45d0a45bb40798596ca5": {
      "model_module": "jupyter-js-widgets",
      "model_module_version": "~2.1.4",
      "model_name": "SliderStyleModel",
      "state": {
       "_model_module_version": "~2.1.4",
       "_view_module_version": "~2.1.4"
      }
     },
     "30fcb60fd7a247f298ebd5895a85cc01": {
      "model_module": "jupyter-js-widgets",
      "model_module_version": "~2.1.4",
      "model_name": "IntSliderModel",
      "state": {
       "_model_module_version": "~2.1.4",
       "_view_module_version": "~2.1.4",
       "description": "time",
       "layout": "IPY_MODEL_469125aa8dd9478aa985f48822aaa0d2",
       "max": 20,
       "style": "IPY_MODEL_7623ef16c80e44cd863ce7ce441bcb76"
      }
     },
     "313a0cf48a404b64911dd6047b30235e": {
      "model_module": "jupyter-js-widgets",
      "model_module_version": "~2.1.4",
      "model_name": "SliderStyleModel",
      "state": {
       "_model_module_version": "~2.1.4",
       "_view_module_version": "~2.1.4"
      }
     },
     "31451da225264c7d8748760c1a837be2": {
      "model_module": "jupyter-js-widgets",
      "model_module_version": "~2.1.4",
      "model_name": "OutputModel",
      "state": {
       "_dom_classes": [],
       "_model_module": "jupyter-js-widgets",
       "_model_module_version": "~2.1.4",
       "_view_module": "jupyter-js-widgets",
       "_view_module_version": "~2.1.4",
       "layout": "IPY_MODEL_44df7562854b43e094a0c47279dfd66f",
       "msg_throttle": 1
      }
     },
     "329ecfdeeac44fc5915f64457403b01f": {
      "model_module": "jupyter-js-widgets",
      "model_module_version": "~2.1.4",
      "model_name": "OutputModel",
      "state": {
       "_dom_classes": [],
       "_model_module": "jupyter-js-widgets",
       "_model_module_version": "~2.1.4",
       "_view_module": "jupyter-js-widgets",
       "_view_module_version": "~2.1.4",
       "layout": "IPY_MODEL_f604d3c921fa4090a489bff5f570f9c9",
       "msg_throttle": 1
      }
     },
     "32fefca3e09147a1a2d2d92d3c433384": {
      "model_module": "jupyter-js-widgets",
      "model_module_version": "~2.1.4",
      "model_name": "LayoutModel",
      "state": {
       "_model_module_version": "~2.1.4",
       "_view_module_version": "~2.1.4"
      }
     },
     "333cb5b243bb48f1bfebe2fcf802f18e": {
      "model_module": "jupyter-js-widgets",
      "model_module_version": "~2.1.4",
      "model_name": "LayoutModel",
      "state": {
       "_model_module_version": "~2.1.4",
       "_view_module_version": "~2.1.4"
      }
     },
     "33f3696641e843829bbf028e1dc70fe7": {
      "model_module": "jupyter-js-widgets",
      "model_module_version": "~2.1.4",
      "model_name": "LayoutModel",
      "state": {
       "_model_module_version": "~2.1.4",
       "_view_module_version": "~2.1.4"
      }
     },
     "353d57d6bc0c4e28a02c2748c77c0f8e": {
      "model_module": "jupyter-js-widgets",
      "model_module_version": "~2.1.4",
      "model_name": "OutputModel",
      "state": {
       "_dom_classes": [],
       "_model_module": "jupyter-js-widgets",
       "_model_module_version": "~2.1.4",
       "_view_module": "jupyter-js-widgets",
       "_view_module_version": "~2.1.4",
       "layout": "IPY_MODEL_88bd875bd3c54ff38affda3733b6b7b2",
       "msg_throttle": 1
      }
     },
     "35a2d28438c34221a8e7723956a31cd8": {
      "model_module": "jupyter-js-widgets",
      "model_module_version": "~2.1.4",
      "model_name": "LayoutModel",
      "state": {
       "_model_module_version": "~2.1.4",
       "_view_module_version": "~2.1.4"
      }
     },
     "361ba12f08624962828cbe47ae37090c": {
      "model_module": "jupyter-js-widgets",
      "model_module_version": "~2.1.4",
      "model_name": "LayoutModel",
      "state": {
       "_model_module_version": "~2.1.4",
       "_view_module_version": "~2.1.4"
      }
     },
     "37214b4eb09846729407ff610151edae": {
      "model_module": "jupyter-js-widgets",
      "model_module_version": "~2.1.4",
      "model_name": "VBoxModel",
      "state": {
       "_dom_classes": [
        "widget-interact"
       ],
       "_model_module_version": "~2.1.4",
       "_view_module_version": "~2.1.4",
       "children": [
        "IPY_MODEL_55e7457ff2924953b48d033e555d213d",
        "IPY_MODEL_ba7c1a4808cf43219fa43df6ed2e1f56"
       ],
       "layout": "IPY_MODEL_bd66829fed874cc883b83863d14b4281"
      }
     },
     "372e55b73a3d4adea440734e3caae0e0": {
      "model_module": "jupyter-js-widgets",
      "model_module_version": "~2.1.4",
      "model_name": "VBoxModel",
      "state": {
       "_dom_classes": [
        "widget-interact"
       ],
       "_model_module_version": "~2.1.4",
       "_view_module_version": "~2.1.4",
       "children": [
        "IPY_MODEL_8cbf3ffb71a347dfb103aa8da7abaa31",
        "IPY_MODEL_797a9173439f45809b1f1caddd6ddf0f"
       ],
       "layout": "IPY_MODEL_ed8fa8753b294f12bf5c076ec591fc74"
      }
     },
     "3744813fd4584115a9e90b95789ef851": {
      "model_module": "jupyter-js-widgets",
      "model_module_version": "~2.1.4",
      "model_name": "LayoutModel",
      "state": {
       "_model_module_version": "~2.1.4",
       "_view_module_version": "~2.1.4"
      }
     },
     "37479df8f75c4906b4f3515f7a268bcc": {
      "model_module": "jupyter-js-widgets",
      "model_module_version": "~2.1.4",
      "model_name": "SliderStyleModel",
      "state": {
       "_model_module_version": "~2.1.4",
       "_view_module_version": "~2.1.4"
      }
     },
     "3765e66c49b14b928cd9c8026e0a006a": {
      "model_module": "jupyter-js-widgets",
      "model_module_version": "~2.1.4",
      "model_name": "IntSliderModel",
      "state": {
       "_model_module_version": "~2.1.4",
       "_view_module_version": "~2.1.4",
       "layout": "IPY_MODEL_1128580795274ad8974dc9f1625a1453",
       "max": 10,
       "style": "IPY_MODEL_b4e57443e651480881b9e34364a0fff9"
      }
     },
     "380087714f61438d890bdb7ebaebdb4a": {
      "model_module": "jupyter-js-widgets",
      "model_module_version": "~2.1.4",
      "model_name": "OutputModel",
      "state": {
       "_dom_classes": [],
       "_model_module": "jupyter-js-widgets",
       "_model_module_version": "~2.1.4",
       "_view_module": "jupyter-js-widgets",
       "_view_module_version": "~2.1.4",
       "layout": "IPY_MODEL_555da3bbb72742f2bb4e8f910ee24676",
       "msg_throttle": 1
      }
     },
     "38087949ea3e452ba255b5c9343d3e37": {
      "model_module": "jupyter-js-widgets",
      "model_module_version": "~2.1.4",
      "model_name": "OutputModel",
      "state": {
       "_dom_classes": [],
       "_model_module": "jupyter-js-widgets",
       "_model_module_version": "~2.1.4",
       "_view_module": "jupyter-js-widgets",
       "_view_module_version": "~2.1.4",
       "layout": "IPY_MODEL_a5510fe5581a4bb5bf6e32b44486bb5e",
       "msg_throttle": 1
      }
     },
     "380d0e5528e4439ab056a54a19defb29": {
      "model_module": "jupyter-js-widgets",
      "model_module_version": "~2.1.4",
      "model_name": "LayoutModel",
      "state": {
       "_model_module_version": "~2.1.4",
       "_view_module_version": "~2.1.4"
      }
     },
     "39401dbae69b454a90a2cccde431696b": {
      "model_module": "jupyter-js-widgets",
      "model_module_version": "~2.1.4",
      "model_name": "LayoutModel",
      "state": {
       "_model_module_version": "~2.1.4",
       "_view_module_version": "~2.1.4"
      }
     },
     "3977089c0c2346ac8892ffb86d763917": {
      "model_module": "jupyter-js-widgets",
      "model_module_version": "~2.1.4",
      "model_name": "LayoutModel",
      "state": {
       "_model_module_version": "~2.1.4",
       "_view_module_version": "~2.1.4"
      }
     },
     "3ab5836ea52b4760bce139edda411e61": {
      "model_module": "jupyter-js-widgets",
      "model_module_version": "~2.1.4",
      "model_name": "OutputModel",
      "state": {
       "_dom_classes": [],
       "_model_module": "jupyter-js-widgets",
       "_model_module_version": "~2.1.4",
       "_view_module": "jupyter-js-widgets",
       "_view_module_version": "~2.1.4",
       "layout": "IPY_MODEL_b4920b421b13481abf1828b5f957cca6",
       "msg_throttle": 1
      }
     },
     "3c0572f30c6949edb6c8e8c5bd651198": {
      "model_module": "jupyter-js-widgets",
      "model_module_version": "~2.1.4",
      "model_name": "LayoutModel",
      "state": {
       "_model_module_version": "~2.1.4",
       "_view_module_version": "~2.1.4"
      }
     },
     "3cc1902070d64e639f7f0f6bff471cc5": {
      "model_module": "jupyter-js-widgets",
      "model_module_version": "~2.1.4",
      "model_name": "VBoxModel",
      "state": {
       "_dom_classes": [
        "widget-interact"
       ],
       "_model_module_version": "~2.1.4",
       "_view_module_version": "~2.1.4",
       "children": [
        "IPY_MODEL_b5bde434ea1c4bda93583aa554cdd790",
        "IPY_MODEL_353d57d6bc0c4e28a02c2748c77c0f8e"
       ],
       "layout": "IPY_MODEL_d9e9ff4f493f4113abc6835d08103b2c"
      }
     },
     "3ef7c722003d4d71a027c37210eaee2a": {
      "model_module": "jupyter-js-widgets",
      "model_module_version": "~2.1.4",
      "model_name": "LayoutModel",
      "state": {
       "_model_module_version": "~2.1.4",
       "_view_module_version": "~2.1.4"
      }
     },
     "3f643eef7cd74ea3930d5d7ccdd0cabe": {
      "model_module": "jupyter-js-widgets",
      "model_module_version": "~2.1.4",
      "model_name": "LayoutModel",
      "state": {
       "_model_module_version": "~2.1.4",
       "_view_module_version": "~2.1.4"
      }
     },
     "419e745849a74836a816d0c19109c156": {
      "model_module": "jupyter-js-widgets",
      "model_module_version": "~2.1.4",
      "model_name": "LayoutModel",
      "state": {
       "_model_module_version": "~2.1.4",
       "_view_module_version": "~2.1.4"
      }
     },
     "41fbfa5a01344eebaebb424acd5b9175": {
      "model_module": "jupyter-js-widgets",
      "model_module_version": "~2.1.4",
      "model_name": "OutputModel",
      "state": {
       "_dom_classes": [],
       "_model_module": "jupyter-js-widgets",
       "_model_module_version": "~2.1.4",
       "_view_module": "jupyter-js-widgets",
       "_view_module_version": "~2.1.4",
       "layout": "IPY_MODEL_a49e6c263f61482b9ebf6c5f973299e6",
       "msg_throttle": 1
      }
     },
     "42e030c9f7eb42c9b6eb5c22c3a2cfca": {
      "model_module": "jupyter-js-widgets",
      "model_module_version": "~2.1.4",
      "model_name": "SliderStyleModel",
      "state": {
       "_model_module_version": "~2.1.4",
       "_view_module_version": "~2.1.4"
      }
     },
     "43af5dd009c74935896d1b50bec282d7": {
      "model_module": "jupyter-js-widgets",
      "model_module_version": "~2.1.4",
      "model_name": "IntSliderModel",
      "state": {
       "_model_module_version": "~2.1.4",
       "_view_module_version": "~2.1.4",
       "description": "time",
       "layout": "IPY_MODEL_5d3e302c8a494ee8ab070eeb26826764",
       "max": 20,
       "style": "IPY_MODEL_a24449bce0844b8491c872aac22bcc7e",
       "value": 20
      }
     },
     "44495625e34646609f0ad79ee4ebcbcd": {
      "model_module": "jupyter-js-widgets",
      "model_module_version": "~2.1.4",
      "model_name": "LayoutModel",
      "state": {
       "_model_module_version": "~2.1.4",
       "_view_module_version": "~2.1.4"
      }
     },
     "44df7562854b43e094a0c47279dfd66f": {
      "model_module": "jupyter-js-widgets",
      "model_module_version": "~2.1.4",
      "model_name": "LayoutModel",
      "state": {
       "_model_module_version": "~2.1.4",
       "_view_module_version": "~2.1.4"
      }
     },
     "44f570287c814449abde74d072cfadfb": {
      "model_module": "jupyter-js-widgets",
      "model_module_version": "~2.1.4",
      "model_name": "OutputModel",
      "state": {
       "_dom_classes": [],
       "_model_module": "jupyter-js-widgets",
       "_model_module_version": "~2.1.4",
       "_view_module": "jupyter-js-widgets",
       "_view_module_version": "~2.1.4",
       "layout": "IPY_MODEL_6f4b5378f234429c8acef54b46c1c0e3",
       "msg_throttle": 1
      }
     },
     "45690d453c094461b6e50eca8d4bc986": {
      "model_module": "jupyter-js-widgets",
      "model_module_version": "~2.1.4",
      "model_name": "LayoutModel",
      "state": {
       "_model_module_version": "~2.1.4",
       "_view_module_version": "~2.1.4"
      }
     },
     "466e3012c41740da9ec18761db34f80e": {
      "model_module": "jupyter-js-widgets",
      "model_module_version": "~2.1.4",
      "model_name": "LayoutModel",
      "state": {
       "_model_module_version": "~2.1.4",
       "_view_module_version": "~2.1.4"
      }
     },
     "469125aa8dd9478aa985f48822aaa0d2": {
      "model_module": "jupyter-js-widgets",
      "model_module_version": "~2.1.4",
      "model_name": "LayoutModel",
      "state": {
       "_model_module_version": "~2.1.4",
       "_view_module_version": "~2.1.4"
      }
     },
     "48b5d477914c45879b29c9969a936874": {
      "model_module": "jupyter-js-widgets",
      "model_module_version": "~2.1.4",
      "model_name": "SliderStyleModel",
      "state": {
       "_model_module_version": "~2.1.4",
       "_view_module_version": "~2.1.4"
      }
     },
     "4a38844fa80547488e8b9274eb7972a1": {
      "model_module": "jupyter-js-widgets",
      "model_module_version": "~2.1.4",
      "model_name": "OutputModel",
      "state": {
       "_dom_classes": [],
       "_model_module": "jupyter-js-widgets",
       "_model_module_version": "~2.1.4",
       "_view_module": "jupyter-js-widgets",
       "_view_module_version": "~2.1.4",
       "layout": "IPY_MODEL_3977089c0c2346ac8892ffb86d763917",
       "msg_throttle": 1
      }
     },
     "4bd129103c414d0e939b22a655f29b34": {
      "model_module": "jupyter-js-widgets",
      "model_module_version": "~2.1.4",
      "model_name": "SliderStyleModel",
      "state": {
       "_model_module_version": "~2.1.4",
       "_view_module_version": "~2.1.4"
      }
     },
     "4c29d53fb7964d15aa60927f8a87e7e8": {
      "model_module": "jupyter-js-widgets",
      "model_module_version": "~2.1.4",
      "model_name": "VBoxModel",
      "state": {
       "_dom_classes": [
        "widget-interact"
       ],
       "_model_module_version": "~2.1.4",
       "_view_module_version": "~2.1.4",
       "children": [
        "IPY_MODEL_c7ef6ad43fed474f8dbab171604a7fb2",
        "IPY_MODEL_a0f8a7d3a99d48cfb084f64fc512ec9f"
       ],
       "layout": "IPY_MODEL_8feb4f78aa9f488bab1ed2a8e8273136"
      }
     },
     "4c62f00b51fd4aedba89d5bb8ee2898e": {
      "model_module": "jupyter-js-widgets",
      "model_module_version": "~2.1.4",
      "model_name": "LayoutModel",
      "state": {
       "_model_module_version": "~2.1.4",
       "_view_module_version": "~2.1.4"
      }
     },
     "4d81f59c8c4e4364852e29ffc2086c9f": {
      "model_module": "jupyter-js-widgets",
      "model_module_version": "~2.1.4",
      "model_name": "LayoutModel",
      "state": {
       "_model_module_version": "~2.1.4",
       "_view_module_version": "~2.1.4"
      }
     },
     "4f32d2f04e804b948f766abe7953b986": {
      "model_module": "jupyter-js-widgets",
      "model_module_version": "~2.1.4",
      "model_name": "SliderStyleModel",
      "state": {
       "_model_module_version": "~2.1.4",
       "_view_module_version": "~2.1.4"
      }
     },
     "4f640e423a254a9089baafb679e9a89a": {
      "model_module": "jupyter-js-widgets",
      "model_module_version": "~2.1.4",
      "model_name": "VBoxModel",
      "state": {
       "_dom_classes": [
        "widget-interact"
       ],
       "_model_module_version": "~2.1.4",
       "_view_module_version": "~2.1.4",
       "children": [
        "IPY_MODEL_97b061cc76414444b71afb1be6e72be9",
        "IPY_MODEL_a7e2423f4fd14b57a7be6aa71a4493d2"
       ],
       "layout": "IPY_MODEL_6e3b2a0af82e4cb4bd009f4ae6a1923d"
      }
     },
     "4f9a0a96122b43118a33c43944319972": {
      "model_module": "jupyter-js-widgets",
      "model_module_version": "~2.1.4",
      "model_name": "IntSliderModel",
      "state": {
       "_model_module_version": "~2.1.4",
       "_view_module_version": "~2.1.4",
       "description": "time",
       "layout": "IPY_MODEL_7dc2545ad9ca4a9781ec11d772d537f6",
       "max": 20,
       "style": "IPY_MODEL_c7de3ca10434412fa8ddcccdc986d9fe",
       "value": 20
      }
     },
     "502863a3521b4fb29062e0d85612b765": {
      "model_module": "jupyter-js-widgets",
      "model_module_version": "~2.1.4",
      "model_name": "SliderStyleModel",
      "state": {
       "_model_module_version": "~2.1.4",
       "_view_module_version": "~2.1.4"
      }
     },
     "50e4ce79c0b348ceafc7c6c833610c60": {
      "model_module": "jupyter-js-widgets",
      "model_module_version": "~2.1.4",
      "model_name": "SliderStyleModel",
      "state": {
       "_model_module_version": "~2.1.4",
       "_view_module_version": "~2.1.4"
      }
     },
     "51d1b0c12a854380ae01afc655c8c936": {
      "model_module": "jupyter-js-widgets",
      "model_module_version": "~2.1.4",
      "model_name": "VBoxModel",
      "state": {
       "_dom_classes": [
        "widget-interact"
       ],
       "_model_module_version": "~2.1.4",
       "_view_module_version": "~2.1.4",
       "children": [
        "IPY_MODEL_30fcb60fd7a247f298ebd5895a85cc01",
        "IPY_MODEL_329ecfdeeac44fc5915f64457403b01f"
       ],
       "layout": "IPY_MODEL_9a8ef66b5af147e1ade15c05b65e210d"
      }
     },
     "5270237cefc54d33aab52dce9c49f8b9": {
      "model_module": "jupyter-js-widgets",
      "model_module_version": "~2.1.4",
      "model_name": "LayoutModel",
      "state": {
       "_model_module_version": "~2.1.4",
       "_view_module_version": "~2.1.4"
      }
     },
     "52dd79a402b84e8085ff455c2abd49c3": {
      "model_module": "jupyter-js-widgets",
      "model_module_version": "~2.1.4",
      "model_name": "LayoutModel",
      "state": {
       "_model_module_version": "~2.1.4",
       "_view_module_version": "~2.1.4"
      }
     },
     "53080ae5c10b44008b678b14eb82ad96": {
      "model_module": "jupyter-js-widgets",
      "model_module_version": "~2.1.4",
      "model_name": "LayoutModel",
      "state": {
       "_model_module_version": "~2.1.4",
       "_view_module_version": "~2.1.4"
      }
     },
     "53269d0544c84c58bcc16bc01b037b56": {
      "model_module": "jupyter-js-widgets",
      "model_module_version": "~2.1.4",
      "model_name": "VBoxModel",
      "state": {
       "_dom_classes": [
        "widget-interact"
       ],
       "_model_module_version": "~2.1.4",
       "_view_module_version": "~2.1.4",
       "children": [
        "IPY_MODEL_d144334237ee4e1ba21618a3f0b77bfd",
        "IPY_MODEL_01d1500b347e4c47a229fad1814eeeca"
       ],
       "layout": "IPY_MODEL_7e4cf17a29d1455a87475c812f98e19b"
      }
     },
     "555da3bbb72742f2bb4e8f910ee24676": {
      "model_module": "jupyter-js-widgets",
      "model_module_version": "~2.1.4",
      "model_name": "LayoutModel",
      "state": {
       "_model_module_version": "~2.1.4",
       "_view_module_version": "~2.1.4"
      }
     },
     "55e7457ff2924953b48d033e555d213d": {
      "model_module": "jupyter-js-widgets",
      "model_module_version": "~2.1.4",
      "model_name": "IntSliderModel",
      "state": {
       "_model_module_version": "~2.1.4",
       "_view_module_version": "~2.1.4",
       "description": "time",
       "layout": "IPY_MODEL_6a29ec93739743d0b63125ab61283aba",
       "max": 20,
       "style": "IPY_MODEL_4f32d2f04e804b948f766abe7953b986",
       "value": 20
      }
     },
     "598c29df7489489a85e89513549c9a70": {
      "model_module": "jupyter-js-widgets",
      "model_module_version": "~2.1.4",
      "model_name": "LayoutModel",
      "state": {
       "_model_module_version": "~2.1.4",
       "_view_module_version": "~2.1.4"
      }
     },
     "5b489bbcf6b34596baa2ebad4cbe8141": {
      "model_module": "jupyter-js-widgets",
      "model_module_version": "~2.1.4",
      "model_name": "LayoutModel",
      "state": {
       "_model_module_version": "~2.1.4",
       "_view_module_version": "~2.1.4"
      }
     },
     "5c6335b052bd4af8abba495c3d558653": {
      "model_module": "jupyter-js-widgets",
      "model_module_version": "~2.1.4",
      "model_name": "VBoxModel",
      "state": {
       "_dom_classes": [
        "widget-interact"
       ],
       "_model_module_version": "~2.1.4",
       "_view_module_version": "~2.1.4",
       "children": [
        "IPY_MODEL_024617f744024e7ebf65ec903d754fe2",
        "IPY_MODEL_38087949ea3e452ba255b5c9343d3e37"
       ],
       "layout": "IPY_MODEL_d31a66affb9846fba5e4a8b439752b7e"
      }
     },
     "5caffc80a9c74b4a82a43a11b27b5715": {
      "model_module": "jupyter-js-widgets",
      "model_module_version": "~2.1.4",
      "model_name": "VBoxModel",
      "state": {
       "_dom_classes": [
        "widget-interact"
       ],
       "_model_module_version": "~2.1.4",
       "_view_module_version": "~2.1.4",
       "children": [
        "IPY_MODEL_fb241c3fe7504456bcb92d5cba9bcec8",
        "IPY_MODEL_44f570287c814449abde74d072cfadfb"
       ],
       "layout": "IPY_MODEL_a42f6fe543fb41ee826d9a6629ddc68e"
      }
     },
     "5d3e302c8a494ee8ab070eeb26826764": {
      "model_module": "jupyter-js-widgets",
      "model_module_version": "~2.1.4",
      "model_name": "LayoutModel",
      "state": {
       "_model_module_version": "~2.1.4",
       "_view_module_version": "~2.1.4"
      }
     },
     "5d45e8d2476748f9a9bf83803e94c71a": {
      "model_module": "jupyter-js-widgets",
      "model_module_version": "~2.1.4",
      "model_name": "IntSliderModel",
      "state": {
       "_model_module_version": "~2.1.4",
       "_view_module_version": "~2.1.4",
       "description": "time",
       "layout": "IPY_MODEL_2f061965fd3a463abbd1c4b8aa0f1793",
       "max": 20,
       "style": "IPY_MODEL_e741fc8e92fc40da98ec6edb7dc9f734",
       "value": 19
      }
     },
     "5de3ae20914e480983743b3c87cc2ae5": {
      "model_module": "jupyter-js-widgets",
      "model_module_version": "~2.1.4",
      "model_name": "SliderStyleModel",
      "state": {
       "_model_module_version": "~2.1.4",
       "_view_module_version": "~2.1.4"
      }
     },
     "5eacfaec10f24f87954bf740b10088dd": {
      "model_module": "jupyter-js-widgets",
      "model_module_version": "~2.1.4",
      "model_name": "LayoutModel",
      "state": {
       "_model_module_version": "~2.1.4",
       "_view_module_version": "~2.1.4"
      }
     },
     "5fcda4f65b5d4a1692a5c39a08e3c409": {
      "model_module": "jupyter-js-widgets",
      "model_module_version": "~2.1.4",
      "model_name": "LayoutModel",
      "state": {
       "_model_module_version": "~2.1.4",
       "_view_module_version": "~2.1.4"
      }
     },
     "6090272847ce493c9ded20ec1c55a813": {
      "model_module": "jupyter-js-widgets",
      "model_module_version": "~2.1.4",
      "model_name": "LayoutModel",
      "state": {
       "_model_module_version": "~2.1.4",
       "_view_module_version": "~2.1.4"
      }
     },
     "6102c049473e434fa3983b134f26812e": {
      "model_module": "jupyter-js-widgets",
      "model_module_version": "~2.1.4",
      "model_name": "OutputModel",
      "state": {
       "_dom_classes": [],
       "_model_module": "jupyter-js-widgets",
       "_model_module_version": "~2.1.4",
       "_view_module": "jupyter-js-widgets",
       "_view_module_version": "~2.1.4",
       "layout": "IPY_MODEL_eafeab9b78454b4c88633ad3ebe3bd76",
       "msg_throttle": 1
      }
     },
     "6291f3c84e0446f5b226bb4abedcff80": {
      "model_module": "jupyter-js-widgets",
      "model_module_version": "~2.1.4",
      "model_name": "IntSliderModel",
      "state": {
       "_model_module_version": "~2.1.4",
       "_view_module_version": "~2.1.4",
       "description": "time",
       "layout": "IPY_MODEL_ec578f4dcb204d379526317515e175d9",
       "style": "IPY_MODEL_888af5a095ce411aa192117461188b2d",
       "value": 61
      }
     },
     "63912efa44dd4cfaba48f87cf88971b7": {
      "model_module": "jupyter-js-widgets",
      "model_module_version": "~2.1.4",
      "model_name": "IntSliderModel",
      "state": {
       "_model_module_version": "~2.1.4",
       "_view_module_version": "~2.1.4",
       "description": "time",
       "layout": "IPY_MODEL_c53d4e1f31c84d34b8f5310348400873",
       "max": 20,
       "style": "IPY_MODEL_f867be0e5ea24dd69e2bd30aa34894dc",
       "value": 20
      }
     },
     "63a6dde6720843418801dc6a1fc4ba38": {
      "model_module": "jupyter-js-widgets",
      "model_module_version": "~2.1.4",
      "model_name": "LayoutModel",
      "state": {
       "_model_module_version": "~2.1.4",
       "_view_module_version": "~2.1.4"
      }
     },
     "644f1726bcd44f64b77156bc374ee43a": {
      "model_module": "jupyter-js-widgets",
      "model_module_version": "~2.1.4",
      "model_name": "LayoutModel",
      "state": {
       "_model_module_version": "~2.1.4",
       "_view_module_version": "~2.1.4"
      }
     },
     "659828c8cc9c413599fb3f8d2115d578": {
      "model_module": "jupyter-js-widgets",
      "model_module_version": "~2.1.4",
      "model_name": "SliderStyleModel",
      "state": {
       "_model_module_version": "~2.1.4",
       "_view_module_version": "~2.1.4"
      }
     },
     "666ab6efa88c4166a5c66515058d641d": {
      "model_module": "jupyter-js-widgets",
      "model_module_version": "~2.1.4",
      "model_name": "LayoutModel",
      "state": {
       "_model_module_version": "~2.1.4",
       "_view_module_version": "~2.1.4"
      }
     },
     "677c328106994d789a3ab0111a6b6761": {
      "model_module": "jupyter-js-widgets",
      "model_module_version": "~2.1.4",
      "model_name": "OutputModel",
      "state": {
       "_dom_classes": [],
       "_model_module": "jupyter-js-widgets",
       "_model_module_version": "~2.1.4",
       "_view_module": "jupyter-js-widgets",
       "_view_module_version": "~2.1.4",
       "layout": "IPY_MODEL_5fcda4f65b5d4a1692a5c39a08e3c409",
       "msg_throttle": 1
      }
     },
     "68df35a9b4124f5eb6c96029f2a84ba6": {
      "model_module": "jupyter-js-widgets",
      "model_module_version": "~2.1.4",
      "model_name": "SliderStyleModel",
      "state": {
       "_model_module_version": "~2.1.4",
       "_view_module_version": "~2.1.4"
      }
     },
     "69aeec22c1564836b917270ba999f053": {
      "model_module": "jupyter-js-widgets",
      "model_module_version": "~2.1.4",
      "model_name": "VBoxModel",
      "state": {
       "_dom_classes": [
        "widget-interact"
       ],
       "_model_module_version": "~2.1.4",
       "_view_module_version": "~2.1.4",
       "children": [
        "IPY_MODEL_6291f3c84e0446f5b226bb4abedcff80",
        "IPY_MODEL_9fcb5b7a533540afb65829d3a9cd749b"
       ],
       "layout": "IPY_MODEL_b9e078370cc64c61a3e3db4e45064bee"
      }
     },
     "6a29ec93739743d0b63125ab61283aba": {
      "model_module": "jupyter-js-widgets",
      "model_module_version": "~2.1.4",
      "model_name": "LayoutModel",
      "state": {
       "_model_module_version": "~2.1.4",
       "_view_module_version": "~2.1.4"
      }
     },
     "6a7c6ed90fa047bf8fc6e425059e3d45": {
      "model_module": "jupyter-js-widgets",
      "model_module_version": "~2.1.4",
      "model_name": "VBoxModel",
      "state": {
       "_dom_classes": [
        "widget-interact"
       ],
       "_model_module_version": "~2.1.4",
       "_view_module_version": "~2.1.4",
       "children": [
        "IPY_MODEL_f2ebef20962946d1914f5fb3232a79da",
        "IPY_MODEL_7a4afe4f0fdb457486e1d865ff4d6f04"
       ],
       "layout": "IPY_MODEL_7d0c0fe6ba2146e180c30885944c9f34"
      }
     },
     "6aa37c14d4384e68b3bec1d81f9cc346": {
      "model_module": "jupyter-js-widgets",
      "model_module_version": "~2.1.4",
      "model_name": "SliderStyleModel",
      "state": {
       "_model_module_version": "~2.1.4",
       "_view_module_version": "~2.1.4"
      }
     },
     "6aeb4676dd18495ba3f6529443101517": {
      "model_module": "jupyter-js-widgets",
      "model_module_version": "~2.1.4",
      "model_name": "SliderStyleModel",
      "state": {
       "_model_module_version": "~2.1.4",
       "_view_module_version": "~2.1.4"
      }
     },
     "6c5c8142ab41463cba86da5fe103c705": {
      "model_module": "jupyter-js-widgets",
      "model_module_version": "~2.1.4",
      "model_name": "LayoutModel",
      "state": {
       "_model_module_version": "~2.1.4",
       "_view_module_version": "~2.1.4"
      }
     },
     "6cbe7c8cb68c4ba9b9d3ab493e174aef": {
      "model_module": "jupyter-js-widgets",
      "model_module_version": "~2.1.4",
      "model_name": "IntSliderModel",
      "state": {
       "_model_module_version": "~2.1.4",
       "_view_module_version": "~2.1.4",
       "description": "time",
       "layout": "IPY_MODEL_644f1726bcd44f64b77156bc374ee43a",
       "max": 20,
       "style": "IPY_MODEL_807defc5af5a466395444d4faf742452",
       "value": 20
      }
     },
     "6cd9408234be4fe69d602a99fb269071": {
      "model_module": "jupyter-js-widgets",
      "model_module_version": "~2.1.4",
      "model_name": "OutputModel",
      "state": {
       "_dom_classes": [],
       "_model_module": "jupyter-js-widgets",
       "_model_module_version": "~2.1.4",
       "_view_module": "jupyter-js-widgets",
       "_view_module_version": "~2.1.4",
       "layout": "IPY_MODEL_0e5d291694db4abd931ffcfdc749d00a",
       "msg_throttle": 1
      }
     },
     "6e3b2a0af82e4cb4bd009f4ae6a1923d": {
      "model_module": "jupyter-js-widgets",
      "model_module_version": "~2.1.4",
      "model_name": "LayoutModel",
      "state": {
       "_model_module_version": "~2.1.4",
       "_view_module_version": "~2.1.4"
      }
     },
     "6f2262e67e054b6ab7539203a5c2d3cc": {
      "model_module": "jupyter-js-widgets",
      "model_module_version": "~2.1.4",
      "model_name": "LayoutModel",
      "state": {
       "_model_module_version": "~2.1.4",
       "_view_module_version": "~2.1.4"
      }
     },
     "6f4b5378f234429c8acef54b46c1c0e3": {
      "model_module": "jupyter-js-widgets",
      "model_module_version": "~2.1.4",
      "model_name": "LayoutModel",
      "state": {
       "_model_module_version": "~2.1.4",
       "_view_module_version": "~2.1.4"
      }
     },
     "6fac1792a3c24911bed59377c79094bd": {
      "model_module": "jupyter-js-widgets",
      "model_module_version": "~2.1.4",
      "model_name": "VBoxModel",
      "state": {
       "_dom_classes": [
        "widget-interact"
       ],
       "_model_module_version": "~2.1.4",
       "_view_module_version": "~2.1.4",
       "children": [
        "IPY_MODEL_17ec043d7aa442648c3a30f0327976fc",
        "IPY_MODEL_f8c27cbe9ec544a3bbfb461d724abe4b"
       ],
       "layout": "IPY_MODEL_17de11fec4b74d33aa0fbcbc74b47f91"
      }
     },
     "713398ebd3dc455b9e20f4ef036f13cd": {
      "model_module": "jupyter-js-widgets",
      "model_module_version": "~2.1.4",
      "model_name": "LayoutModel",
      "state": {
       "_model_module_version": "~2.1.4",
       "_view_module_version": "~2.1.4"
      }
     },
     "7287c828535449368a7839ce9d066763": {
      "model_module": "jupyter-js-widgets",
      "model_module_version": "~2.1.4",
      "model_name": "LayoutModel",
      "state": {
       "_model_module_version": "~2.1.4",
       "_view_module_version": "~2.1.4"
      }
     },
     "733b7e73fa1d4110802ff42c58f97f39": {
      "model_module": "jupyter-js-widgets",
      "model_module_version": "~2.1.4",
      "model_name": "SliderStyleModel",
      "state": {
       "_model_module_version": "~2.1.4",
       "_view_module_version": "~2.1.4"
      }
     },
     "7351fc561d03466bbfebf7b062c286a4": {
      "model_module": "jupyter-js-widgets",
      "model_module_version": "~2.1.4",
      "model_name": "OutputModel",
      "state": {
       "_dom_classes": [],
       "_model_module": "jupyter-js-widgets",
       "_model_module_version": "~2.1.4",
       "_view_module": "jupyter-js-widgets",
       "_view_module_version": "~2.1.4",
       "layout": "IPY_MODEL_c1a097d4803841d9b72e947ea1c7e884",
       "msg_throttle": 1
      }
     },
     "74160eab5c954bd8b2f1b43973a04d85": {
      "model_module": "jupyter-js-widgets",
      "model_module_version": "~2.1.4",
      "model_name": "OutputModel",
      "state": {
       "_dom_classes": [],
       "_model_module": "jupyter-js-widgets",
       "_model_module_version": "~2.1.4",
       "_view_module": "jupyter-js-widgets",
       "_view_module_version": "~2.1.4",
       "layout": "IPY_MODEL_fd4e6028d3a449fe9a900ff28ce578f9",
       "msg_throttle": 1
      }
     },
     "746d71554e87441e8f67b52064147fc6": {
      "model_module": "jupyter-js-widgets",
      "model_module_version": "~2.1.4",
      "model_name": "SliderStyleModel",
      "state": {
       "_model_module_version": "~2.1.4",
       "_view_module_version": "~2.1.4"
      }
     },
     "74d82e460bf7439895eed32092ee3f92": {
      "model_module": "jupyter-js-widgets",
      "model_module_version": "~2.1.4",
      "model_name": "IntSliderModel",
      "state": {
       "_model_module_version": "~2.1.4",
       "_view_module_version": "~2.1.4",
       "description": "time",
       "layout": "IPY_MODEL_713398ebd3dc455b9e20f4ef036f13cd",
       "max": 20,
       "style": "IPY_MODEL_239652929f8c41079d3f67041e613de4"
      }
     },
     "751d2603f5654dba90dabba9363abce1": {
      "model_module": "jupyter-js-widgets",
      "model_module_version": "~2.1.4",
      "model_name": "LayoutModel",
      "state": {
       "_model_module_version": "~2.1.4",
       "_view_module_version": "~2.1.4"
      }
     },
     "7623ef16c80e44cd863ce7ce441bcb76": {
      "model_module": "jupyter-js-widgets",
      "model_module_version": "~2.1.4",
      "model_name": "SliderStyleModel",
      "state": {
       "_model_module_version": "~2.1.4",
       "_view_module_version": "~2.1.4"
      }
     },
     "7635a908acc3447ba2d910fcedc3d128": {
      "model_module": "jupyter-js-widgets",
      "model_module_version": "~2.1.4",
      "model_name": "SliderStyleModel",
      "state": {
       "_model_module_version": "~2.1.4",
       "_view_module_version": "~2.1.4"
      }
     },
     "76462fdad7ad49aa8fe4ca50efb42646": {
      "model_module": "jupyter-js-widgets",
      "model_module_version": "~2.1.4",
      "model_name": "SliderStyleModel",
      "state": {
       "_model_module_version": "~2.1.4",
       "_view_module_version": "~2.1.4"
      }
     },
     "7869e032cb2a4ac797d60fd92c540318": {
      "model_module": "jupyter-js-widgets",
      "model_module_version": "~2.1.4",
      "model_name": "IntSliderModel",
      "state": {
       "_model_module_version": "~2.1.4",
       "_view_module_version": "~2.1.4",
       "description": "time",
       "layout": "IPY_MODEL_ecfd4fe5b15040d2bb54767a8212713a",
       "max": 20,
       "style": "IPY_MODEL_beef4f72db604186960bbf5c32fc6051",
       "value": 20
      }
     },
     "787e2e86af01407fbd3e0c4efc3feefd": {
      "model_module": "jupyter-js-widgets",
      "model_module_version": "~2.1.4",
      "model_name": "LayoutModel",
      "state": {
       "_model_module_version": "~2.1.4",
       "_view_module_version": "~2.1.4"
      }
     },
     "79553e20aff84e7592c4bff6b90a10ab": {
      "model_module": "jupyter-js-widgets",
      "model_module_version": "~2.1.4",
      "model_name": "LayoutModel",
      "state": {
       "_model_module_version": "~2.1.4",
       "_view_module_version": "~2.1.4"
      }
     },
     "7961228042204dfc8792b095fa49481b": {
      "model_module": "jupyter-js-widgets",
      "model_module_version": "~2.1.4",
      "model_name": "SliderStyleModel",
      "state": {
       "_model_module_version": "~2.1.4",
       "_view_module_version": "~2.1.4"
      }
     },
     "797a9173439f45809b1f1caddd6ddf0f": {
      "model_module": "jupyter-js-widgets",
      "model_module_version": "~2.1.4",
      "model_name": "OutputModel",
      "state": {
       "_dom_classes": [],
       "_model_module": "jupyter-js-widgets",
       "_model_module_version": "~2.1.4",
       "_view_module": "jupyter-js-widgets",
       "_view_module_version": "~2.1.4",
       "layout": "IPY_MODEL_1fa84daa30784968a0f162a73ee16750",
       "msg_throttle": 1
      }
     },
     "7a4afe4f0fdb457486e1d865ff4d6f04": {
      "model_module": "jupyter-js-widgets",
      "model_module_version": "~2.1.4",
      "model_name": "OutputModel",
      "state": {
       "_dom_classes": [],
       "_model_module": "jupyter-js-widgets",
       "_model_module_version": "~2.1.4",
       "_view_module": "jupyter-js-widgets",
       "_view_module_version": "~2.1.4",
       "layout": "IPY_MODEL_e99925b544da40b492c3defe3331c90d",
       "msg_throttle": 1
      }
     },
     "7b107f97ec2246be9e13a4f2c969ed5b": {
      "model_module": "jupyter-js-widgets",
      "model_module_version": "~2.1.4",
      "model_name": "LayoutModel",
      "state": {
       "_model_module_version": "~2.1.4",
       "_view_module_version": "~2.1.4"
      }
     },
     "7d0c0fe6ba2146e180c30885944c9f34": {
      "model_module": "jupyter-js-widgets",
      "model_module_version": "~2.1.4",
      "model_name": "LayoutModel",
      "state": {
       "_model_module_version": "~2.1.4",
       "_view_module_version": "~2.1.4"
      }
     },
     "7dc2545ad9ca4a9781ec11d772d537f6": {
      "model_module": "jupyter-js-widgets",
      "model_module_version": "~2.1.4",
      "model_name": "LayoutModel",
      "state": {
       "_model_module_version": "~2.1.4",
       "_view_module_version": "~2.1.4"
      }
     },
     "7e4cf17a29d1455a87475c812f98e19b": {
      "model_module": "jupyter-js-widgets",
      "model_module_version": "~2.1.4",
      "model_name": "LayoutModel",
      "state": {
       "_model_module_version": "~2.1.4",
       "_view_module_version": "~2.1.4"
      }
     },
     "7fc9399458954ce58b09b4317e6d9c3d": {
      "model_module": "jupyter-js-widgets",
      "model_module_version": "~2.1.4",
      "model_name": "OutputModel",
      "state": {
       "_dom_classes": [],
       "_model_module": "jupyter-js-widgets",
       "_model_module_version": "~2.1.4",
       "_view_module": "jupyter-js-widgets",
       "_view_module_version": "~2.1.4",
       "layout": "IPY_MODEL_e0e76abbdc7a4079b757bc3a99800d8e",
       "msg_throttle": 1
      }
     },
     "807defc5af5a466395444d4faf742452": {
      "model_module": "jupyter-js-widgets",
      "model_module_version": "~2.1.4",
      "model_name": "SliderStyleModel",
      "state": {
       "_model_module_version": "~2.1.4",
       "_view_module_version": "~2.1.4"
      }
     },
     "827fa2eb511740ab855659348b85ecc8": {
      "model_module": "jupyter-js-widgets",
      "model_module_version": "~2.1.4",
      "model_name": "VBoxModel",
      "state": {
       "_dom_classes": [
        "widget-interact"
       ],
       "_model_module_version": "~2.1.4",
       "_view_module_version": "~2.1.4",
       "children": [
        "IPY_MODEL_dca305b04b154da8993dc5547560c717",
        "IPY_MODEL_31451da225264c7d8748760c1a837be2"
       ],
       "layout": "IPY_MODEL_992331cc005842f889d5ab2903ac0750"
      }
     },
     "8426f2f8aa364aa99c10aafdbdc65905": {
      "model_module": "jupyter-js-widgets",
      "model_module_version": "~2.1.4",
      "model_name": "LayoutModel",
      "state": {
       "_model_module_version": "~2.1.4",
       "_view_module_version": "~2.1.4"
      }
     },
     "86164b2120ec46b8801b8d977951e5ab": {
      "model_module": "jupyter-js-widgets",
      "model_module_version": "~2.1.4",
      "model_name": "SliderStyleModel",
      "state": {
       "_model_module_version": "~2.1.4",
       "_view_module_version": "~2.1.4"
      }
     },
     "873f3f7cf8a9491bbed5a36c837190e7": {
      "model_module": "jupyter-js-widgets",
      "model_module_version": "~2.1.4",
      "model_name": "OutputModel",
      "state": {
       "_dom_classes": [],
       "_model_module": "jupyter-js-widgets",
       "_model_module_version": "~2.1.4",
       "_view_module": "jupyter-js-widgets",
       "_view_module_version": "~2.1.4",
       "layout": "IPY_MODEL_051346f9ecd94856a9cc8741bd7e11b2",
       "msg_throttle": 1
      }
     },
     "888af5a095ce411aa192117461188b2d": {
      "model_module": "jupyter-js-widgets",
      "model_module_version": "~2.1.4",
      "model_name": "SliderStyleModel",
      "state": {
       "_model_module_version": "~2.1.4",
       "_view_module_version": "~2.1.4"
      }
     },
     "88bd875bd3c54ff38affda3733b6b7b2": {
      "model_module": "jupyter-js-widgets",
      "model_module_version": "~2.1.4",
      "model_name": "LayoutModel",
      "state": {
       "_model_module_version": "~2.1.4",
       "_view_module_version": "~2.1.4"
      }
     },
     "89208782bed8476aa43613eb67fa2680": {
      "model_module": "jupyter-js-widgets",
      "model_module_version": "~2.1.4",
      "model_name": "OutputModel",
      "state": {
       "_dom_classes": [],
       "_model_module": "jupyter-js-widgets",
       "_model_module_version": "~2.1.4",
       "_view_module": "jupyter-js-widgets",
       "_view_module_version": "~2.1.4",
       "layout": "IPY_MODEL_e0aabec45d464c4196ad55f7d017f99b",
       "msg_throttle": 1
      }
     },
     "89952460ea374e3d86cab88eb2830b95": {
      "model_module": "jupyter-js-widgets",
      "model_module_version": "~2.1.4",
      "model_name": "OutputModel",
      "state": {
       "_dom_classes": [],
       "_model_module": "jupyter-js-widgets",
       "_model_module_version": "~2.1.4",
       "_view_module": "jupyter-js-widgets",
       "_view_module_version": "~2.1.4",
       "layout": "IPY_MODEL_8426f2f8aa364aa99c10aafdbdc65905",
       "msg_throttle": 1
      }
     },
     "8a6ef18fb31d4c49bc541d57b1820d52": {
      "model_module": "jupyter-js-widgets",
      "model_module_version": "~2.1.4",
      "model_name": "SliderStyleModel",
      "state": {
       "_model_module_version": "~2.1.4",
       "_view_module_version": "~2.1.4"
      }
     },
     "8cbf3ffb71a347dfb103aa8da7abaa31": {
      "model_module": "jupyter-js-widgets",
      "model_module_version": "~2.1.4",
      "model_name": "IntSliderModel",
      "state": {
       "_model_module_version": "~2.1.4",
       "_view_module_version": "~2.1.4",
       "description": "time",
       "layout": "IPY_MODEL_1ae02e1c1f3444aeb64c4e5f978ab75c",
       "max": 50,
       "style": "IPY_MODEL_2a83751eb6cc458e89808d56642ad394",
       "value": 50
      }
     },
     "8d4d289040484a489b01ef2dcf7c576c": {
      "model_module": "jupyter-js-widgets",
      "model_module_version": "~2.1.4",
      "model_name": "LayoutModel",
      "state": {
       "_model_module_version": "~2.1.4",
       "_view_module_version": "~2.1.4"
      }
     },
     "8d5595d63b4e42648f171849c2bdf767": {
      "model_module": "jupyter-js-widgets",
      "model_module_version": "~2.1.4",
      "model_name": "SliderStyleModel",
      "state": {
       "_model_module_version": "~2.1.4",
       "_view_module_version": "~2.1.4"
      }
     },
     "8feb4f78aa9f488bab1ed2a8e8273136": {
      "model_module": "jupyter-js-widgets",
      "model_module_version": "~2.1.4",
      "model_name": "LayoutModel",
      "state": {
       "_model_module_version": "~2.1.4",
       "_view_module_version": "~2.1.4"
      }
     },
     "907bf47068044536bcc5361263a4c0a9": {
      "model_module": "jupyter-js-widgets",
      "model_module_version": "~2.1.4",
      "model_name": "IntSliderModel",
      "state": {
       "_model_module_version": "~2.1.4",
       "_view_module_version": "~2.1.4",
       "description": "time",
       "layout": "IPY_MODEL_e95d05e5bc614a538af14feba12a8c42",
       "max": 10,
       "style": "IPY_MODEL_263a8f368e9d468b9f5063e8ba73b006",
       "value": 1
      }
     },
     "92a6cb4b7dd0411d91464b0d7cac28e2": {
      "model_module": "jupyter-js-widgets",
      "model_module_version": "~2.1.4",
      "model_name": "LayoutModel",
      "state": {
       "_model_module_version": "~2.1.4",
       "_view_module_version": "~2.1.4"
      }
     },
     "94e801359e9940f0a7ffcf6c3f80d351": {
      "model_module": "jupyter-js-widgets",
      "model_module_version": "~2.1.4",
      "model_name": "LayoutModel",
      "state": {
       "_model_module_version": "~2.1.4",
       "_view_module_version": "~2.1.4"
      }
     },
     "959340f7afa54f97a40138ee78d914ea": {
      "model_module": "jupyter-js-widgets",
      "model_module_version": "~2.1.4",
      "model_name": "VBoxModel",
      "state": {
       "_dom_classes": [
        "widget-interact"
       ],
       "_model_module_version": "~2.1.4",
       "_view_module_version": "~2.1.4",
       "children": [
        "IPY_MODEL_e9cbe1926e334d70ad02085af9ce32cb",
        "IPY_MODEL_d0a9a30596874e3d9852bb907055b31c"
       ],
       "layout": "IPY_MODEL_5eacfaec10f24f87954bf740b10088dd"
      }
     },
     "95ec1eec2e6e483792304eed98dfa1ee": {
      "model_module": "jupyter-js-widgets",
      "model_module_version": "~2.1.4",
      "model_name": "LayoutModel",
      "state": {
       "_model_module_version": "~2.1.4",
       "_view_module_version": "~2.1.4"
      }
     },
     "969e10f4dbc243b9b26ae6926b500783": {
      "model_module": "jupyter-js-widgets",
      "model_module_version": "~2.1.4",
      "model_name": "IntSliderModel",
      "state": {
       "_model_module_version": "~2.1.4",
       "_view_module_version": "~2.1.4",
       "description": "time",
       "layout": "IPY_MODEL_d46a4892e1fb4a4b91c43f07572ea77c",
       "max": 20,
       "style": "IPY_MODEL_659828c8cc9c413599fb3f8d2115d578"
      }
     },
     "96e5e3a6eafb41dda17089dcc7b6ce3c": {
      "model_module": "jupyter-js-widgets",
      "model_module_version": "~2.1.4",
      "model_name": "IntSliderModel",
      "state": {
       "_model_module_version": "~2.1.4",
       "_view_module_version": "~2.1.4",
       "description": "time",
       "layout": "IPY_MODEL_e0bb0bde5b2f4ce48c2449348067f069",
       "max": 20,
       "style": "IPY_MODEL_0970d4b964504e0eb47711bbe8ea9c26",
       "value": 20
      }
     },
     "97b061cc76414444b71afb1be6e72be9": {
      "model_module": "jupyter-js-widgets",
      "model_module_version": "~2.1.4",
      "model_name": "IntSliderModel",
      "state": {
       "_model_module_version": "~2.1.4",
       "_view_module_version": "~2.1.4",
       "description": "time",
       "layout": "IPY_MODEL_a85ca85047e544dca5fd7a8992be8b73",
       "max": 30,
       "style": "IPY_MODEL_6aa37c14d4384e68b3bec1d81f9cc346",
       "value": 30
      }
     },
     "981237a7706d49e7999bfd288a8fb74a": {
      "model_module": "jupyter-js-widgets",
      "model_module_version": "~2.1.4",
      "model_name": "VBoxModel",
      "state": {
       "_dom_classes": [
        "widget-interact"
       ],
       "_model_module_version": "~2.1.4",
       "_view_module_version": "~2.1.4",
       "children": [
        "IPY_MODEL_19121b7d8e174971b5e261d0200cfd96",
        "IPY_MODEL_b147c4f2e1bb47b39a499833cef8c625"
       ],
       "layout": "IPY_MODEL_c5fe630345c04de78e848dfacfbe6003"
      }
     },
     "992331cc005842f889d5ab2903ac0750": {
      "model_module": "jupyter-js-widgets",
      "model_module_version": "~2.1.4",
      "model_name": "LayoutModel",
      "state": {
       "_model_module_version": "~2.1.4",
       "_view_module_version": "~2.1.4"
      }
     },
     "99e426c8128b4871b3b647d925f6807e": {
      "model_module": "jupyter-js-widgets",
      "model_module_version": "~2.1.4",
      "model_name": "VBoxModel",
      "state": {
       "_dom_classes": [
        "widget-interact"
       ],
       "_model_module_version": "~2.1.4",
       "_view_module_version": "~2.1.4",
       "children": [
        "IPY_MODEL_b7486fe47cb7499d9f3ff13609d26dbb",
        "IPY_MODEL_a2cc30edafd74b66acf1e069c672aac5"
       ],
       "layout": "IPY_MODEL_a781c34f07e846f6a4006b857a346166"
      }
     },
     "9a443e1432aa446b988b65f6b342a0d7": {
      "model_module": "jupyter-js-widgets",
      "model_module_version": "~2.1.4",
      "model_name": "IntSliderModel",
      "state": {
       "_model_module_version": "~2.1.4",
       "_view_module_version": "~2.1.4",
       "description": "time",
       "layout": "IPY_MODEL_2cd98000c6cb48d79eaafb26e90fc0a8",
       "max": 20,
       "style": "IPY_MODEL_fa61fbbc276c4f4e9d76617744f0f356"
      }
     },
     "9a8ef66b5af147e1ade15c05b65e210d": {
      "model_module": "jupyter-js-widgets",
      "model_module_version": "~2.1.4",
      "model_name": "LayoutModel",
      "state": {
       "_model_module_version": "~2.1.4",
       "_view_module_version": "~2.1.4"
      }
     },
     "9aaef98a0e514bd4bdf03c2222123a8d": {
      "model_module": "jupyter-js-widgets",
      "model_module_version": "~2.1.4",
      "model_name": "OutputModel",
      "state": {
       "_dom_classes": [],
       "_model_module": "jupyter-js-widgets",
       "_model_module_version": "~2.1.4",
       "_view_module": "jupyter-js-widgets",
       "_view_module_version": "~2.1.4",
       "layout": "IPY_MODEL_2ed617b809b347a9b1f1a201fca5e1ff",
       "msg_throttle": 1
      }
     },
     "9af03744bcf849eaa330b5d2bd52bad9": {
      "model_module": "jupyter-js-widgets",
      "model_module_version": "~2.1.4",
      "model_name": "LayoutModel",
      "state": {
       "_model_module_version": "~2.1.4",
       "_view_module_version": "~2.1.4"
      }
     },
     "9bcd3c9575f94c328712f25c65182210": {
      "model_module": "jupyter-js-widgets",
      "model_module_version": "~2.1.4",
      "model_name": "SliderStyleModel",
      "state": {
       "_model_module_version": "~2.1.4",
       "_view_module_version": "~2.1.4"
      }
     },
     "9c564d6aa4264c20a606cd967a64d007": {
      "model_module": "jupyter-js-widgets",
      "model_module_version": "~2.1.4",
      "model_name": "IntSliderModel",
      "state": {
       "_model_module_version": "~2.1.4",
       "_view_module_version": "~2.1.4",
       "description": "time",
       "layout": "IPY_MODEL_db28b72258f842678fffa01fe05d4377",
       "style": "IPY_MODEL_ed7a5dc3161f4b36bd32c7a86698d706"
      }
     },
     "9c6eb57107684492bcb23d7ca9c3c746": {
      "model_module": "jupyter-js-widgets",
      "model_module_version": "~2.1.4",
      "model_name": "IntSliderModel",
      "state": {
       "_model_module_version": "~2.1.4",
       "_view_module_version": "~2.1.4",
       "description": "time",
       "layout": "IPY_MODEL_7b107f97ec2246be9e13a4f2c969ed5b",
       "max": 10,
       "style": "IPY_MODEL_ba2a6da9eb3346e38e50f363919c2726"
      }
     },
     "9d8e4bb3bc674fd392807d17761b6d1f": {
      "model_module": "jupyter-js-widgets",
      "model_module_version": "~2.1.4",
      "model_name": "VBoxModel",
      "state": {
       "_dom_classes": [
        "widget-interact"
       ],
       "_model_module_version": "~2.1.4",
       "_view_module_version": "~2.1.4",
       "children": [
        "IPY_MODEL_215626d17d724ac29bb83ec2ffab3378",
        "IPY_MODEL_a90ff37757d0453297fcb22da0af4077"
       ],
       "layout": "IPY_MODEL_f08c2b0c3e5c463db7d817391fdedd0e"
      }
     },
     "9eaa5b0ffeda40cdbec0b4c74aad8548": {
      "model_module": "jupyter-js-widgets",
      "model_module_version": "~2.1.4",
      "model_name": "IntSliderModel",
      "state": {
       "_model_module_version": "~2.1.4",
       "_view_module_version": "~2.1.4",
       "description": "time",
       "layout": "IPY_MODEL_3f643eef7cd74ea3930d5d7ccdd0cabe",
       "max": 20,
       "style": "IPY_MODEL_6aeb4676dd18495ba3f6529443101517",
       "value": 20
      }
     },
     "9fcb5b7a533540afb65829d3a9cd749b": {
      "model_module": "jupyter-js-widgets",
      "model_module_version": "~2.1.4",
      "model_name": "OutputModel",
      "state": {
       "_dom_classes": [],
       "_model_module": "jupyter-js-widgets",
       "_model_module_version": "~2.1.4",
       "_view_module": "jupyter-js-widgets",
       "_view_module_version": "~2.1.4",
       "layout": "IPY_MODEL_edd46b5ffa6b40739f710c5ac964f9da",
       "msg_throttle": 1
      }
     },
     "9fd4ac92fd8c4447a3cc0c60c47238f1": {
      "model_module": "jupyter-js-widgets",
      "model_module_version": "~2.1.4",
      "model_name": "VBoxModel",
      "state": {
       "_dom_classes": [
        "widget-interact"
       ],
       "_model_module_version": "~2.1.4",
       "_view_module_version": "~2.1.4",
       "children": [
        "IPY_MODEL_01df400ab4da4fbd937ba6759abc1a45",
        "IPY_MODEL_c0deee8445ce48beba916b0bb1cdfd6e"
       ],
       "layout": "IPY_MODEL_4c62f00b51fd4aedba89d5bb8ee2898e"
      }
     },
     "a0f31ebe47cc45d3a792b28f7c7114e9": {
      "model_module": "jupyter-js-widgets",
      "model_module_version": "~2.1.4",
      "model_name": "VBoxModel",
      "state": {
       "_dom_classes": [
        "widget-interact"
       ],
       "_model_module_version": "~2.1.4",
       "_view_module_version": "~2.1.4",
       "children": [
        "IPY_MODEL_969e10f4dbc243b9b26ae6926b500783",
        "IPY_MODEL_fc6149f16dee477e96a16d0f10a7dddc"
       ],
       "layout": "IPY_MODEL_33f3696641e843829bbf028e1dc70fe7"
      }
     },
     "a0f8a7d3a99d48cfb084f64fc512ec9f": {
      "model_module": "jupyter-js-widgets",
      "model_module_version": "~2.1.4",
      "model_name": "OutputModel",
      "state": {
       "_dom_classes": [],
       "_model_module": "jupyter-js-widgets",
       "_model_module_version": "~2.1.4",
       "_view_module": "jupyter-js-widgets",
       "_view_module_version": "~2.1.4",
       "layout": "IPY_MODEL_e6d9399a26df4d72868248046820591f",
       "msg_throttle": 1
      }
     },
     "a117eb59af764301a449544fb9110bfd": {
      "model_module": "jupyter-js-widgets",
      "model_module_version": "~2.1.4",
      "model_name": "SliderStyleModel",
      "state": {
       "_model_module_version": "~2.1.4",
       "_view_module_version": "~2.1.4"
      }
     },
     "a24449bce0844b8491c872aac22bcc7e": {
      "model_module": "jupyter-js-widgets",
      "model_module_version": "~2.1.4",
      "model_name": "SliderStyleModel",
      "state": {
       "_model_module_version": "~2.1.4",
       "_view_module_version": "~2.1.4"
      }
     },
     "a289e5fea7c14acd9d3fd4d8a5fa6db8": {
      "model_module": "jupyter-js-widgets",
      "model_module_version": "~2.1.4",
      "model_name": "VBoxModel",
      "state": {
       "_dom_classes": [
        "widget-interact"
       ],
       "_model_module_version": "~2.1.4",
       "_view_module_version": "~2.1.4",
       "children": [
        "IPY_MODEL_1944682fc21a445ea7aeed2eb95e6e5f",
        "IPY_MODEL_a7e0ae85d6fb4122a59cf94c1236309c"
       ],
       "layout": "IPY_MODEL_666ab6efa88c4166a5c66515058d641d"
      }
     },
     "a28d09bad3174abe89d903e5e9c899c1": {
      "model_module": "jupyter-js-widgets",
      "model_module_version": "~2.1.4",
      "model_name": "VBoxModel",
      "state": {
       "_dom_classes": [
        "widget-interact"
       ],
       "_model_module_version": "~2.1.4",
       "_view_module_version": "~2.1.4",
       "children": [
        "IPY_MODEL_9c564d6aa4264c20a606cd967a64d007",
        "IPY_MODEL_9aaef98a0e514bd4bdf03c2222123a8d"
       ],
       "layout": "IPY_MODEL_35a2d28438c34221a8e7723956a31cd8"
      }
     },
     "a2cc30edafd74b66acf1e069c672aac5": {
      "model_module": "jupyter-js-widgets",
      "model_module_version": "~2.1.4",
      "model_name": "OutputModel",
      "state": {
       "_dom_classes": [],
       "_model_module": "jupyter-js-widgets",
       "_model_module_version": "~2.1.4",
       "_view_module": "jupyter-js-widgets",
       "_view_module_version": "~2.1.4",
       "layout": "IPY_MODEL_0598bac449f94269abd065230cf441be",
       "msg_throttle": 1
      }
     },
     "a423887f895a4cf9b68e21e56e0a3eb0": {
      "model_module": "jupyter-js-widgets",
      "model_module_version": "~2.1.4",
      "model_name": "LayoutModel",
      "state": {
       "_model_module_version": "~2.1.4",
       "_view_module_version": "~2.1.4"
      }
     },
     "a42f6fe543fb41ee826d9a6629ddc68e": {
      "model_module": "jupyter-js-widgets",
      "model_module_version": "~2.1.4",
      "model_name": "LayoutModel",
      "state": {
       "_model_module_version": "~2.1.4",
       "_view_module_version": "~2.1.4"
      }
     },
     "a49c5f563d754a34b7af8db7aab7312f": {
      "model_module": "jupyter-js-widgets",
      "model_module_version": "~2.1.4",
      "model_name": "OutputModel",
      "state": {
       "_dom_classes": [],
       "_model_module": "jupyter-js-widgets",
       "_model_module_version": "~2.1.4",
       "_view_module": "jupyter-js-widgets",
       "_view_module_version": "~2.1.4",
       "layout": "IPY_MODEL_2b64510c5f7e4c1aaac11bfa040177b7",
       "msg_throttle": 1
      }
     },
     "a49e6c263f61482b9ebf6c5f973299e6": {
      "model_module": "jupyter-js-widgets",
      "model_module_version": "~2.1.4",
      "model_name": "LayoutModel",
      "state": {
       "_model_module_version": "~2.1.4",
       "_view_module_version": "~2.1.4"
      }
     },
     "a5510fe5581a4bb5bf6e32b44486bb5e": {
      "model_module": "jupyter-js-widgets",
      "model_module_version": "~2.1.4",
      "model_name": "LayoutModel",
      "state": {
       "_model_module_version": "~2.1.4",
       "_view_module_version": "~2.1.4"
      }
     },
     "a781c34f07e846f6a4006b857a346166": {
      "model_module": "jupyter-js-widgets",
      "model_module_version": "~2.1.4",
      "model_name": "LayoutModel",
      "state": {
       "_model_module_version": "~2.1.4",
       "_view_module_version": "~2.1.4"
      }
     },
     "a7e0ae85d6fb4122a59cf94c1236309c": {
      "model_module": "jupyter-js-widgets",
      "model_module_version": "~2.1.4",
      "model_name": "OutputModel",
      "state": {
       "_dom_classes": [],
       "_model_module": "jupyter-js-widgets",
       "_model_module_version": "~2.1.4",
       "_view_module": "jupyter-js-widgets",
       "_view_module_version": "~2.1.4",
       "layout": "IPY_MODEL_d39b703a598944b68fbcbf60a7977dd3",
       "msg_throttle": 1
      }
     },
     "a7e2423f4fd14b57a7be6aa71a4493d2": {
      "model_module": "jupyter-js-widgets",
      "model_module_version": "~2.1.4",
      "model_name": "OutputModel",
      "state": {
       "_dom_classes": [],
       "_model_module": "jupyter-js-widgets",
       "_model_module_version": "~2.1.4",
       "_view_module": "jupyter-js-widgets",
       "_view_module_version": "~2.1.4",
       "layout": "IPY_MODEL_bc94daa7b0e24b55b266484ad6afed53",
       "msg_throttle": 1
      }
     },
     "a814a6f6492447b69e4e326d8f7e632a": {
      "model_module": "jupyter-js-widgets",
      "model_module_version": "~2.1.4",
      "model_name": "VBoxModel",
      "state": {
       "_dom_classes": [
        "widget-interact"
       ],
       "_model_module_version": "~2.1.4",
       "_view_module_version": "~2.1.4",
       "layout": "IPY_MODEL_d440db397cd343f99027585aee6775ab"
      }
     },
     "a85ca85047e544dca5fd7a8992be8b73": {
      "model_module": "jupyter-js-widgets",
      "model_module_version": "~2.1.4",
      "model_name": "LayoutModel",
      "state": {
       "_model_module_version": "~2.1.4",
       "_view_module_version": "~2.1.4"
      }
     },
     "a90ff37757d0453297fcb22da0af4077": {
      "model_module": "jupyter-js-widgets",
      "model_module_version": "~2.1.4",
      "model_name": "OutputModel",
      "state": {
       "_dom_classes": [],
       "_model_module": "jupyter-js-widgets",
       "_model_module_version": "~2.1.4",
       "_view_module": "jupyter-js-widgets",
       "_view_module_version": "~2.1.4",
       "layout": "IPY_MODEL_f4fc5fa1105443d1b802c0b9386ec93c",
       "msg_throttle": 1
      }
     },
     "a9122e0baf57400580e796b0441ebc50": {
      "model_module": "jupyter-js-widgets",
      "model_module_version": "~2.1.4",
      "model_name": "LayoutModel",
      "state": {
       "_model_module_version": "~2.1.4",
       "_view_module_version": "~2.1.4"
      }
     },
     "aa3b5f318cb345fa9639d12ba41a024c": {
      "model_module": "jupyter-js-widgets",
      "model_module_version": "~2.1.4",
      "model_name": "LayoutModel",
      "state": {
       "_model_module_version": "~2.1.4",
       "_view_module_version": "~2.1.4"
      }
     },
     "aa80daff02ae4f62a004525df7e67b5e": {
      "model_module": "jupyter-js-widgets",
      "model_module_version": "~2.1.4",
      "model_name": "SliderStyleModel",
      "state": {
       "_model_module_version": "~2.1.4",
       "_view_module_version": "~2.1.4"
      }
     },
     "ab8268a83b0249deaf214b431797c23f": {
      "model_module": "jupyter-js-widgets",
      "model_module_version": "~2.1.4",
      "model_name": "LayoutModel",
      "state": {
       "_model_module_version": "~2.1.4",
       "_view_module_version": "~2.1.4"
      }
     },
     "abfd1f1b3cbe4b7f93a25b55648838ea": {
      "model_module": "jupyter-js-widgets",
      "model_module_version": "~2.1.4",
      "model_name": "IntSliderModel",
      "state": {
       "_model_module_version": "~2.1.4",
       "_view_module_version": "~2.1.4",
       "description": "time",
       "layout": "IPY_MODEL_ddc99b492c254d0993231aefb2cc84cd",
       "style": "IPY_MODEL_2fe96f72231c45d0a45bb40798596ca5"
      }
     },
     "acecf5fc30794912be798c2a0f997da5": {
      "model_module": "jupyter-js-widgets",
      "model_module_version": "~2.1.4",
      "model_name": "LayoutModel",
      "state": {
       "_model_module_version": "~2.1.4",
       "_view_module_version": "~2.1.4"
      }
     },
     "adda6d05d0c44bca8fc58b04be15200b": {
      "model_module": "jupyter-js-widgets",
      "model_module_version": "~2.1.4",
      "model_name": "LayoutModel",
      "state": {
       "_model_module_version": "~2.1.4",
       "_view_module_version": "~2.1.4"
      }
     },
     "ae61c6093ba74c0f9535b0fed9beec9a": {
      "model_module": "jupyter-js-widgets",
      "model_module_version": "~2.1.4",
      "model_name": "IntSliderModel",
      "state": {
       "_model_module_version": "~2.1.4",
       "_view_module_version": "~2.1.4",
       "description": "time",
       "layout": "IPY_MODEL_4d81f59c8c4e4364852e29ffc2086c9f",
       "max": 20,
       "style": "IPY_MODEL_7635a908acc3447ba2d910fcedc3d128",
       "value": 20
      }
     },
     "aee6d049eb3a44529b4265341403dcbf": {
      "model_module": "jupyter-js-widgets",
      "model_module_version": "~2.1.4",
      "model_name": "VBoxModel",
      "state": {
       "_dom_classes": [
        "widget-interact"
       ],
       "_model_module_version": "~2.1.4",
       "_view_module_version": "~2.1.4",
       "children": [
        "IPY_MODEL_c6934d611fc8477f939de7a31a517948",
        "IPY_MODEL_6102c049473e434fa3983b134f26812e"
       ],
       "layout": "IPY_MODEL_419e745849a74836a816d0c19109c156"
      }
     },
     "afb0fedd3a2b4e7ea658476177ec6958": {
      "model_module": "jupyter-js-widgets",
      "model_module_version": "~2.1.4",
      "model_name": "LayoutModel",
      "state": {
       "_model_module_version": "~2.1.4",
       "_view_module_version": "~2.1.4"
      }
     },
     "afea4f86794a4412a6ea662ee555d759": {
      "model_module": "jupyter-js-widgets",
      "model_module_version": "~2.1.4",
      "model_name": "LayoutModel",
      "state": {
       "_model_module_version": "~2.1.4",
       "_view_module_version": "~2.1.4"
      }
     },
     "b0cc89645e154f7390c3d4bd8a366250": {
      "model_module": "jupyter-js-widgets",
      "model_module_version": "~2.1.4",
      "model_name": "IntSliderModel",
      "state": {
       "_model_module_version": "~2.1.4",
       "_view_module_version": "~2.1.4",
       "description": "time",
       "layout": "IPY_MODEL_45690d453c094461b6e50eca8d4bc986",
       "max": 20,
       "style": "IPY_MODEL_aa80daff02ae4f62a004525df7e67b5e",
       "value": 20
      }
     },
     "b108eb0b13e34495afbe6acd654ca01f": {
      "model_module": "jupyter-js-widgets",
      "model_module_version": "~2.1.4",
      "model_name": "OutputModel",
      "state": {
       "_dom_classes": [],
       "_model_module": "jupyter-js-widgets",
       "_model_module_version": "~2.1.4",
       "_view_module": "jupyter-js-widgets",
       "_view_module_version": "~2.1.4",
       "layout": "IPY_MODEL_6c5c8142ab41463cba86da5fe103c705",
       "msg_throttle": 1
      }
     },
     "b147c4f2e1bb47b39a499833cef8c625": {
      "model_module": "jupyter-js-widgets",
      "model_module_version": "~2.1.4",
      "model_name": "OutputModel",
      "state": {
       "_dom_classes": [],
       "_model_module": "jupyter-js-widgets",
       "_model_module_version": "~2.1.4",
       "_view_module": "jupyter-js-widgets",
       "_view_module_version": "~2.1.4",
       "layout": "IPY_MODEL_e1eae5308f5f467496aa0dbae25b0ecc",
       "msg_throttle": 1
      }
     },
     "b22a035feca344c38ee29041fc83411a": {
      "model_module": "jupyter-js-widgets",
      "model_module_version": "~2.1.4",
      "model_name": "LayoutModel",
      "state": {
       "_model_module_version": "~2.1.4",
       "_view_module_version": "~2.1.4"
      }
     },
     "b3b73100574b4c18a1832dc9a45f5b9a": {
      "model_module": "jupyter-js-widgets",
      "model_module_version": "~2.1.4",
      "model_name": "VBoxModel",
      "state": {
       "_dom_classes": [
        "widget-interact"
       ],
       "_model_module_version": "~2.1.4",
       "_view_module_version": "~2.1.4",
       "children": [
        "IPY_MODEL_96e5e3a6eafb41dda17089dcc7b6ce3c",
        "IPY_MODEL_873f3f7cf8a9491bbed5a36c837190e7"
       ],
       "layout": "IPY_MODEL_3ef7c722003d4d71a027c37210eaee2a"
      }
     },
     "b42d15d188464b5f9ac580f6b6083aa9": {
      "model_module": "jupyter-js-widgets",
      "model_module_version": "~2.1.4",
      "model_name": "LayoutModel",
      "state": {
       "_model_module_version": "~2.1.4",
       "_view_module_version": "~2.1.4"
      }
     },
     "b4920b421b13481abf1828b5f957cca6": {
      "model_module": "jupyter-js-widgets",
      "model_module_version": "~2.1.4",
      "model_name": "LayoutModel",
      "state": {
       "_model_module_version": "~2.1.4",
       "_view_module_version": "~2.1.4"
      }
     },
     "b4e57443e651480881b9e34364a0fff9": {
      "model_module": "jupyter-js-widgets",
      "model_module_version": "~2.1.4",
      "model_name": "SliderStyleModel",
      "state": {
       "_model_module_version": "~2.1.4",
       "_view_module_version": "~2.1.4"
      }
     },
     "b5bde434ea1c4bda93583aa554cdd790": {
      "model_module": "jupyter-js-widgets",
      "model_module_version": "~2.1.4",
      "model_name": "IntSliderModel",
      "state": {
       "_model_module_version": "~2.1.4",
       "_view_module_version": "~2.1.4",
       "description": "time",
       "layout": "IPY_MODEL_e1c1cbae14a9464f834de45447178980",
       "max": 20,
       "style": "IPY_MODEL_c74e60733f504151aa664103cd86e027",
       "value": 20
      }
     },
     "b7486fe47cb7499d9f3ff13609d26dbb": {
      "model_module": "jupyter-js-widgets",
      "model_module_version": "~2.1.4",
      "model_name": "IntSliderModel",
      "state": {
       "_model_module_version": "~2.1.4",
       "_view_module_version": "~2.1.4",
       "description": "time",
       "layout": "IPY_MODEL_d621e712e12f4a21a1e0b6759a067dd4",
       "style": "IPY_MODEL_37479df8f75c4906b4f3515f7a268bcc"
      }
     },
     "b84a3c743b2949ad9c011b5a2112b16d": {
      "model_module": "jupyter-js-widgets",
      "model_module_version": "~2.1.4",
      "model_name": "SliderStyleModel",
      "state": {
       "_model_module_version": "~2.1.4",
       "_view_module_version": "~2.1.4"
      }
     },
     "b853df252cbe4ec8b888d0644fbfc962": {
      "model_module": "jupyter-js-widgets",
      "model_module_version": "~2.1.4",
      "model_name": "LayoutModel",
      "state": {
       "_model_module_version": "~2.1.4",
       "_view_module_version": "~2.1.4"
      }
     },
     "b9e078370cc64c61a3e3db4e45064bee": {
      "model_module": "jupyter-js-widgets",
      "model_module_version": "~2.1.4",
      "model_name": "LayoutModel",
      "state": {
       "_model_module_version": "~2.1.4",
       "_view_module_version": "~2.1.4"
      }
     },
     "ba2a6da9eb3346e38e50f363919c2726": {
      "model_module": "jupyter-js-widgets",
      "model_module_version": "~2.1.4",
      "model_name": "SliderStyleModel",
      "state": {
       "_model_module_version": "~2.1.4",
       "_view_module_version": "~2.1.4"
      }
     },
     "ba37cd08ba1d4d84828e61b77de58876": {
      "model_module": "jupyter-js-widgets",
      "model_module_version": "~2.1.4",
      "model_name": "IntSliderModel",
      "state": {
       "_model_module_version": "~2.1.4",
       "_view_module_version": "~2.1.4",
       "description": "time",
       "layout": "IPY_MODEL_afb0fedd3a2b4e7ea658476177ec6958",
       "max": 20,
       "style": "IPY_MODEL_8a6ef18fb31d4c49bc541d57b1820d52"
      }
     },
     "ba4e27f26d8f44369eb8eb82c449e5fb": {
      "model_module": "jupyter-js-widgets",
      "model_module_version": "~2.1.4",
      "model_name": "LayoutModel",
      "state": {
       "_model_module_version": "~2.1.4",
       "_view_module_version": "~2.1.4"
      }
     },
     "ba7c1a4808cf43219fa43df6ed2e1f56": {
      "model_module": "jupyter-js-widgets",
      "model_module_version": "~2.1.4",
      "model_name": "OutputModel",
      "state": {
       "_dom_classes": [],
       "_model_module": "jupyter-js-widgets",
       "_model_module_version": "~2.1.4",
       "_view_module": "jupyter-js-widgets",
       "_view_module_version": "~2.1.4",
       "layout": "IPY_MODEL_de0ec584db2740b5afb6b95626a2163a",
       "msg_throttle": 1
      }
     },
     "bbb852dde6ca43cfbcdf3dd2d74271bf": {
      "model_module": "jupyter-js-widgets",
      "model_module_version": "~2.1.4",
      "model_name": "LayoutModel",
      "state": {
       "_model_module_version": "~2.1.4",
       "_view_module_version": "~2.1.4"
      }
     },
     "bbd23e14825a4a93bd4f5e5b484560a8": {
      "model_module": "jupyter-js-widgets",
      "model_module_version": "~2.1.4",
      "model_name": "VBoxModel",
      "state": {
       "_dom_classes": [
        "widget-interact"
       ],
       "_model_module_version": "~2.1.4",
       "_view_module_version": "~2.1.4",
       "children": [
        "IPY_MODEL_025d61d57e1a4833b7c64b6c3b5d7ba6",
        "IPY_MODEL_0acdc96a82654303a4f4d839c67b7605"
       ],
       "layout": "IPY_MODEL_79553e20aff84e7592c4bff6b90a10ab"
      }
     },
     "bc6581f9a6c84872bfcfcfafa3d1bbf8": {
      "model_module": "jupyter-js-widgets",
      "model_module_version": "~2.1.4",
      "model_name": "LayoutModel",
      "state": {
       "_model_module_version": "~2.1.4",
       "_view_module_version": "~2.1.4"
      }
     },
     "bc86f4c363f544e888cc93069e5d675c": {
      "model_module": "jupyter-js-widgets",
      "model_module_version": "~2.1.4",
      "model_name": "VBoxModel",
      "state": {
       "_dom_classes": [
        "widget-interact"
       ],
       "_model_module_version": "~2.1.4",
       "_view_module_version": "~2.1.4",
       "children": [
        "IPY_MODEL_abfd1f1b3cbe4b7f93a25b55648838ea",
        "IPY_MODEL_e3a23aa1f5b041158c1c88f5f78a91e1"
       ],
       "layout": "IPY_MODEL_751d2603f5654dba90dabba9363abce1"
      }
     },
     "bc94daa7b0e24b55b266484ad6afed53": {
      "model_module": "jupyter-js-widgets",
      "model_module_version": "~2.1.4",
      "model_name": "LayoutModel",
      "state": {
       "_model_module_version": "~2.1.4",
       "_view_module_version": "~2.1.4"
      }
     },
     "bd66829fed874cc883b83863d14b4281": {
      "model_module": "jupyter-js-widgets",
      "model_module_version": "~2.1.4",
      "model_name": "LayoutModel",
      "state": {
       "_model_module_version": "~2.1.4",
       "_view_module_version": "~2.1.4"
      }
     },
     "bd76cd9c427d4dc1a919dce32e983296": {
      "model_module": "jupyter-js-widgets",
      "model_module_version": "~2.1.4",
      "model_name": "OutputModel",
      "state": {
       "_dom_classes": [],
       "_model_module": "jupyter-js-widgets",
       "_model_module_version": "~2.1.4",
       "_view_module": "jupyter-js-widgets",
       "_view_module_version": "~2.1.4",
       "layout": "IPY_MODEL_b22a035feca344c38ee29041fc83411a",
       "msg_throttle": 1
      }
     },
     "bec8fcb171d344e392392b7b6804cf0f": {
      "model_module": "jupyter-js-widgets",
      "model_module_version": "~2.1.4",
      "model_name": "OutputModel",
      "state": {
       "_dom_classes": [],
       "_model_module": "jupyter-js-widgets",
       "_model_module_version": "~2.1.4",
       "_view_module": "jupyter-js-widgets",
       "_view_module_version": "~2.1.4",
       "layout": "IPY_MODEL_02bcc7572d55458baa5570d39e63eefa",
       "msg_throttle": 1
      }
     },
     "beef4f72db604186960bbf5c32fc6051": {
      "model_module": "jupyter-js-widgets",
      "model_module_version": "~2.1.4",
      "model_name": "SliderStyleModel",
      "state": {
       "_model_module_version": "~2.1.4",
       "_view_module_version": "~2.1.4"
      }
     },
     "c026fc78e8044527939e3f7d7b9cb571": {
      "model_module": "jupyter-js-widgets",
      "model_module_version": "~2.1.4",
      "model_name": "LayoutModel",
      "state": {
       "_model_module_version": "~2.1.4",
       "_view_module_version": "~2.1.4"
      }
     },
     "c0deee8445ce48beba916b0bb1cdfd6e": {
      "model_module": "jupyter-js-widgets",
      "model_module_version": "~2.1.4",
      "model_name": "OutputModel",
      "state": {
       "_dom_classes": [],
       "_model_module": "jupyter-js-widgets",
       "_model_module_version": "~2.1.4",
       "_view_module": "jupyter-js-widgets",
       "_view_module_version": "~2.1.4",
       "layout": "IPY_MODEL_e4f20bfae4f94d6ebf0a4d4f7da0ce5e",
       "msg_throttle": 1
      }
     },
     "c10623bd2f504aa88915253af5aca50b": {
      "model_module": "jupyter-js-widgets",
      "model_module_version": "~2.1.4",
      "model_name": "OutputModel",
      "state": {
       "_dom_classes": [],
       "_model_module": "jupyter-js-widgets",
       "_model_module_version": "~2.1.4",
       "_view_module": "jupyter-js-widgets",
       "_view_module_version": "~2.1.4",
       "layout": "IPY_MODEL_333cb5b243bb48f1bfebe2fcf802f18e",
       "msg_throttle": 1
      }
     },
     "c188433feef3477cb570f1bd5ffb660d": {
      "model_module": "jupyter-js-widgets",
      "model_module_version": "~2.1.4",
      "model_name": "SliderStyleModel",
      "state": {
       "_model_module_version": "~2.1.4",
       "_view_module_version": "~2.1.4"
      }
     },
     "c1a097d4803841d9b72e947ea1c7e884": {
      "model_module": "jupyter-js-widgets",
      "model_module_version": "~2.1.4",
      "model_name": "LayoutModel",
      "state": {
       "_model_module_version": "~2.1.4",
       "_view_module_version": "~2.1.4"
      }
     },
     "c2d7c71fcb5848ca82f5645a639f901d": {
      "model_module": "jupyter-js-widgets",
      "model_module_version": "~2.1.4",
      "model_name": "LayoutModel",
      "state": {
       "_model_module_version": "~2.1.4",
       "_view_module_version": "~2.1.4"
      }
     },
     "c389a78faa094958a8a74aa5676746d3": {
      "model_module": "jupyter-js-widgets",
      "model_module_version": "~2.1.4",
      "model_name": "VBoxModel",
      "state": {
       "_dom_classes": [
        "widget-interact"
       ],
       "_model_module_version": "~2.1.4",
       "_view_module_version": "~2.1.4",
       "children": [
        "IPY_MODEL_d138e1725edc4f15ae44aeb3e741becb",
        "IPY_MODEL_bec8fcb171d344e392392b7b6804cf0f"
       ],
       "layout": "IPY_MODEL_acecf5fc30794912be798c2a0f997da5"
      }
     },
     "c53d4e1f31c84d34b8f5310348400873": {
      "model_module": "jupyter-js-widgets",
      "model_module_version": "~2.1.4",
      "model_name": "LayoutModel",
      "state": {
       "_model_module_version": "~2.1.4",
       "_view_module_version": "~2.1.4"
      }
     },
     "c53e10372f1b44dbaa8cbcd7554c9224": {
      "model_module": "jupyter-js-widgets",
      "model_module_version": "~2.1.4",
      "model_name": "VBoxModel",
      "state": {
       "_dom_classes": [
        "widget-interact"
       ],
       "_model_module_version": "~2.1.4",
       "_view_module_version": "~2.1.4",
       "children": [
        "IPY_MODEL_b0cc89645e154f7390c3d4bd8a366250",
        "IPY_MODEL_e6e59c931d7744af8f09c8eb6e8a48ae"
       ],
       "layout": "IPY_MODEL_39401dbae69b454a90a2cccde431696b"
      }
     },
     "c5fe630345c04de78e848dfacfbe6003": {
      "model_module": "jupyter-js-widgets",
      "model_module_version": "~2.1.4",
      "model_name": "LayoutModel",
      "state": {
       "_model_module_version": "~2.1.4",
       "_view_module_version": "~2.1.4"
      }
     },
     "c620b5f75c8f470bacb2b75f5ac57402": {
      "model_module": "jupyter-js-widgets",
      "model_module_version": "~2.1.4",
      "model_name": "LayoutModel",
      "state": {
       "_model_module_version": "~2.1.4",
       "_view_module_version": "~2.1.4"
      }
     },
     "c6934d611fc8477f939de7a31a517948": {
      "model_module": "jupyter-js-widgets",
      "model_module_version": "~2.1.4",
      "model_name": "IntSliderModel",
      "state": {
       "_model_module_version": "~2.1.4",
       "_view_module_version": "~2.1.4",
       "description": "time",
       "layout": "IPY_MODEL_95ec1eec2e6e483792304eed98dfa1ee",
       "style": "IPY_MODEL_d768b4968c634099825653c9dee6eea8"
      }
     },
     "c74e60733f504151aa664103cd86e027": {
      "model_module": "jupyter-js-widgets",
      "model_module_version": "~2.1.4",
      "model_name": "SliderStyleModel",
      "state": {
       "_model_module_version": "~2.1.4",
       "_view_module_version": "~2.1.4"
      }
     },
     "c7de3ca10434412fa8ddcccdc986d9fe": {
      "model_module": "jupyter-js-widgets",
      "model_module_version": "~2.1.4",
      "model_name": "SliderStyleModel",
      "state": {
       "_model_module_version": "~2.1.4",
       "_view_module_version": "~2.1.4"
      }
     },
     "c7ef6ad43fed474f8dbab171604a7fb2": {
      "model_module": "jupyter-js-widgets",
      "model_module_version": "~2.1.4",
      "model_name": "IntSliderModel",
      "state": {
       "_model_module_version": "~2.1.4",
       "_view_module_version": "~2.1.4",
       "description": "time",
       "layout": "IPY_MODEL_d6a740d37f89472383c2c68dd9afeee0",
       "max": 10,
       "style": "IPY_MODEL_68df35a9b4124f5eb6c96029f2a84ba6",
       "value": 10
      }
     },
     "c8304e3e3bc34629809d2a45310b9817": {
      "model_module": "jupyter-js-widgets",
      "model_module_version": "~2.1.4",
      "model_name": "LayoutModel",
      "state": {
       "_model_module_version": "~2.1.4",
       "_view_module_version": "~2.1.4"
      }
     },
     "c88de710ed89422c923cc223338a7d46": {
      "model_module": "jupyter-js-widgets",
      "model_module_version": "~2.1.4",
      "model_name": "LayoutModel",
      "state": {
       "_model_module_version": "~2.1.4",
       "_view_module_version": "~2.1.4"
      }
     },
     "c95defe42fe54ea08645418f2c13f921": {
      "model_module": "jupyter-js-widgets",
      "model_module_version": "~2.1.4",
      "model_name": "VBoxModel",
      "state": {
       "_dom_classes": [
        "widget-interact"
       ],
       "_model_module_version": "~2.1.4",
       "_view_module_version": "~2.1.4",
       "children": [
        "IPY_MODEL_0333c0dcbe1343869784501308297a94",
        "IPY_MODEL_3ab5836ea52b4760bce139edda411e61"
       ],
       "layout": "IPY_MODEL_9af03744bcf849eaa330b5d2bd52bad9"
      }
     },
     "ca4449595b214429955b5489cd389dfb": {
      "model_module": "jupyter-js-widgets",
      "model_module_version": "~2.1.4",
      "model_name": "OutputModel",
      "state": {
       "_dom_classes": [],
       "_model_module": "jupyter-js-widgets",
       "_model_module_version": "~2.1.4",
       "_view_module": "jupyter-js-widgets",
       "_view_module_version": "~2.1.4",
       "layout": "IPY_MODEL_d2b712f9fc3540bf8c64dedaf13f8597",
       "msg_throttle": 1
      }
     },
     "cc3c08aea20e44678d86fdeb50bd4c15": {
      "model_module": "jupyter-js-widgets",
      "model_module_version": "~2.1.4",
      "model_name": "IntSliderModel",
      "state": {
       "_model_module_version": "~2.1.4",
       "_view_module_version": "~2.1.4",
       "description": "time",
       "layout": "IPY_MODEL_f422abe64fe048efb70fec5d02fa7bcf",
       "max": 20,
       "style": "IPY_MODEL_06ce175796a142378803d8c6181cf246"
      }
     },
     "cd2d53a67a93402dbd2304e271620958": {
      "model_module": "jupyter-js-widgets",
      "model_module_version": "~2.1.4",
      "model_name": "VBoxModel",
      "state": {
       "_dom_classes": [
        "widget-interact"
       ],
       "_model_module_version": "~2.1.4",
       "_view_module_version": "~2.1.4",
       "children": [
        "IPY_MODEL_f6d10ad896e048c48cdba9f66401a0e5",
        "IPY_MODEL_7fc9399458954ce58b09b4317e6d9c3d"
       ],
       "layout": "IPY_MODEL_108242a72feb4ca8a819433eee3c4dd2"
      }
     },
     "ce2e91ed526f4b73a0b9e29221b8470d": {
      "model_module": "jupyter-js-widgets",
      "model_module_version": "~2.1.4",
      "model_name": "LayoutModel",
      "state": {
       "_model_module_version": "~2.1.4",
       "_view_module_version": "~2.1.4"
      }
     },
     "cfc716e1e31e4674a1c4eda658d73165": {
      "model_module": "jupyter-js-widgets",
      "model_module_version": "~2.1.4",
      "model_name": "LayoutModel",
      "state": {
       "_model_module_version": "~2.1.4",
       "_view_module_version": "~2.1.4"
      }
     },
     "d0a9a30596874e3d9852bb907055b31c": {
      "model_module": "jupyter-js-widgets",
      "model_module_version": "~2.1.4",
      "model_name": "OutputModel",
      "state": {
       "_dom_classes": [],
       "_model_module": "jupyter-js-widgets",
       "_model_module_version": "~2.1.4",
       "_view_module": "jupyter-js-widgets",
       "_view_module_version": "~2.1.4",
       "layout": "IPY_MODEL_1f06f2c2e8fa4257a0889e4bd59726d7",
       "msg_throttle": 1
      }
     },
     "d0ae13bd99604032a6cffe38cf9c6af1": {
      "model_module": "jupyter-js-widgets",
      "model_module_version": "~2.1.4",
      "model_name": "VBoxModel",
      "state": {
       "_dom_classes": [
        "widget-interact"
       ],
       "_model_module_version": "~2.1.4",
       "_view_module_version": "~2.1.4",
       "children": [
        "IPY_MODEL_9eaa5b0ffeda40cdbec0b4c74aad8548",
        "IPY_MODEL_fd085481f15b424fb091966bd4952023"
       ],
       "layout": "IPY_MODEL_268f66c6b1324f268751e3bbafd53c86"
      }
     },
     "d138e1725edc4f15ae44aeb3e741becb": {
      "model_module": "jupyter-js-widgets",
      "model_module_version": "~2.1.4",
      "model_name": "IntSliderModel",
      "state": {
       "_model_module_version": "~2.1.4",
       "_view_module_version": "~2.1.4",
       "description": "time",
       "layout": "IPY_MODEL_598c29df7489489a85e89513549c9a70",
       "style": "IPY_MODEL_eec5192f60124839a1a03e316b067ca1"
      }
     },
     "d144334237ee4e1ba21618a3f0b77bfd": {
      "model_module": "jupyter-js-widgets",
      "model_module_version": "~2.1.4",
      "model_name": "IntSliderModel",
      "state": {
       "_model_module_version": "~2.1.4",
       "_view_module_version": "~2.1.4",
       "description": "time",
       "layout": "IPY_MODEL_7287c828535449368a7839ce9d066763",
       "max": 20,
       "style": "IPY_MODEL_0a21399416f84779a0b9a983e02311bd"
      }
     },
     "d2b712f9fc3540bf8c64dedaf13f8597": {
      "model_module": "jupyter-js-widgets",
      "model_module_version": "~2.1.4",
      "model_name": "LayoutModel",
      "state": {
       "_model_module_version": "~2.1.4",
       "_view_module_version": "~2.1.4"
      }
     },
     "d31a66affb9846fba5e4a8b439752b7e": {
      "model_module": "jupyter-js-widgets",
      "model_module_version": "~2.1.4",
      "model_name": "LayoutModel",
      "state": {
       "_model_module_version": "~2.1.4",
       "_view_module_version": "~2.1.4"
      }
     },
     "d39b703a598944b68fbcbf60a7977dd3": {
      "model_module": "jupyter-js-widgets",
      "model_module_version": "~2.1.4",
      "model_name": "LayoutModel",
      "state": {
       "_model_module_version": "~2.1.4",
       "_view_module_version": "~2.1.4"
      }
     },
     "d440db397cd343f99027585aee6775ab": {
      "model_module": "jupyter-js-widgets",
      "model_module_version": "~2.1.4",
      "model_name": "LayoutModel",
      "state": {
       "_model_module_version": "~2.1.4",
       "_view_module_version": "~2.1.4"
      }
     },
     "d46a4892e1fb4a4b91c43f07572ea77c": {
      "model_module": "jupyter-js-widgets",
      "model_module_version": "~2.1.4",
      "model_name": "LayoutModel",
      "state": {
       "_model_module_version": "~2.1.4",
       "_view_module_version": "~2.1.4"
      }
     },
     "d56d4c25cf2242eea6bdcf6a0466b4eb": {
      "model_module": "jupyter-js-widgets",
      "model_module_version": "~2.1.4",
      "model_name": "LayoutModel",
      "state": {
       "_model_module_version": "~2.1.4",
       "_view_module_version": "~2.1.4"
      }
     },
     "d56f94d1146543be85ecc56107ed8f80": {
      "model_module": "jupyter-js-widgets",
      "model_module_version": "~2.1.4",
      "model_name": "LayoutModel",
      "state": {
       "_model_module_version": "~2.1.4",
       "_view_module_version": "~2.1.4"
      }
     },
     "d621e712e12f4a21a1e0b6759a067dd4": {
      "model_module": "jupyter-js-widgets",
      "model_module_version": "~2.1.4",
      "model_name": "LayoutModel",
      "state": {
       "_model_module_version": "~2.1.4",
       "_view_module_version": "~2.1.4"
      }
     },
     "d6a740d37f89472383c2c68dd9afeee0": {
      "model_module": "jupyter-js-widgets",
      "model_module_version": "~2.1.4",
      "model_name": "LayoutModel",
      "state": {
       "_model_module_version": "~2.1.4",
       "_view_module_version": "~2.1.4"
      }
     },
     "d768b4968c634099825653c9dee6eea8": {
      "model_module": "jupyter-js-widgets",
      "model_module_version": "~2.1.4",
      "model_name": "SliderStyleModel",
      "state": {
       "_model_module_version": "~2.1.4",
       "_view_module_version": "~2.1.4"
      }
     },
     "d9e9ff4f493f4113abc6835d08103b2c": {
      "model_module": "jupyter-js-widgets",
      "model_module_version": "~2.1.4",
      "model_name": "LayoutModel",
      "state": {
       "_model_module_version": "~2.1.4",
       "_view_module_version": "~2.1.4"
      }
     },
     "db28b72258f842678fffa01fe05d4377": {
      "model_module": "jupyter-js-widgets",
      "model_module_version": "~2.1.4",
      "model_name": "LayoutModel",
      "state": {
       "_model_module_version": "~2.1.4",
       "_view_module_version": "~2.1.4"
      }
     },
     "db6297590495451d8016fd6f085e214d": {
      "model_module": "jupyter-js-widgets",
      "model_module_version": "~2.1.4",
      "model_name": "LayoutModel",
      "state": {
       "_model_module_version": "~2.1.4",
       "_view_module_version": "~2.1.4"
      }
     },
     "dca305b04b154da8993dc5547560c717": {
      "model_module": "jupyter-js-widgets",
      "model_module_version": "~2.1.4",
      "model_name": "IntSliderModel",
      "state": {
       "_model_module_version": "~2.1.4",
       "_view_module_version": "~2.1.4",
       "description": "time",
       "layout": "IPY_MODEL_afea4f86794a4412a6ea662ee555d759",
       "style": "IPY_MODEL_48b5d477914c45879b29c9969a936874"
      }
     },
     "ddc99b492c254d0993231aefb2cc84cd": {
      "model_module": "jupyter-js-widgets",
      "model_module_version": "~2.1.4",
      "model_name": "LayoutModel",
      "state": {
       "_model_module_version": "~2.1.4",
       "_view_module_version": "~2.1.4"
      }
     },
     "ddfdd9f2a5034c60a4c51b48d4771e96": {
      "model_module": "jupyter-js-widgets",
      "model_module_version": "~2.1.4",
      "model_name": "LayoutModel",
      "state": {
       "_model_module_version": "~2.1.4",
       "_view_module_version": "~2.1.4"
      }
     },
     "de0ec584db2740b5afb6b95626a2163a": {
      "model_module": "jupyter-js-widgets",
      "model_module_version": "~2.1.4",
      "model_name": "LayoutModel",
      "state": {
       "_model_module_version": "~2.1.4",
       "_view_module_version": "~2.1.4"
      }
     },
     "de5dc9eaefe64642b8f642bcecc4f9c4": {
      "model_module": "jupyter-js-widgets",
      "model_module_version": "~2.1.4",
      "model_name": "OutputModel",
      "state": {
       "_dom_classes": [],
       "_model_module": "jupyter-js-widgets",
       "_model_module_version": "~2.1.4",
       "_view_module": "jupyter-js-widgets",
       "_view_module_version": "~2.1.4",
       "layout": "IPY_MODEL_aa3b5f318cb345fa9639d12ba41a024c",
       "msg_throttle": 1
      }
     },
     "deb2792ab7384e88b1dab440c752163d": {
      "model_module": "jupyter-js-widgets",
      "model_module_version": "~2.1.4",
      "model_name": "VBoxModel",
      "state": {
       "_dom_classes": [
        "widget-interact"
       ],
       "_model_module_version": "~2.1.4",
       "_view_module_version": "~2.1.4",
       "children": [
        "IPY_MODEL_18cb068c0d2e45bc8e911479358597aa",
        "IPY_MODEL_4a38844fa80547488e8b9274eb7972a1"
       ],
       "layout": "IPY_MODEL_adda6d05d0c44bca8fc58b04be15200b"
      }
     },
     "debc78a9e28d4231b3972dae482619f3": {
      "model_module": "jupyter-js-widgets",
      "model_module_version": "~2.1.4",
      "model_name": "VBoxModel",
      "state": {
       "_dom_classes": [
        "widget-interact"
       ],
       "_model_module_version": "~2.1.4",
       "_view_module_version": "~2.1.4",
       "children": [
        "IPY_MODEL_29ad3a4b70d24041bbbadb639a4cd1fa",
        "IPY_MODEL_de5dc9eaefe64642b8f642bcecc4f9c4"
       ],
       "layout": "IPY_MODEL_6090272847ce493c9ded20ec1c55a813"
      }
     },
     "df19edacce384b5f8f7820fc2ff48e48": {
      "model_module": "jupyter-js-widgets",
      "model_module_version": "~2.1.4",
      "model_name": "IntSliderModel",
      "state": {
       "_model_module_version": "~2.1.4",
       "_view_module_version": "~2.1.4",
       "description": "time",
       "layout": "IPY_MODEL_f38a8d9d8c2a48ac8d410736e7e2a95d",
       "max": 10,
       "style": "IPY_MODEL_14c1b78b960646519c10a92ae396e5b6"
      }
     },
     "e0aabec45d464c4196ad55f7d017f99b": {
      "model_module": "jupyter-js-widgets",
      "model_module_version": "~2.1.4",
      "model_name": "LayoutModel",
      "state": {
       "_model_module_version": "~2.1.4",
       "_view_module_version": "~2.1.4"
      }
     },
     "e0bb0bde5b2f4ce48c2449348067f069": {
      "model_module": "jupyter-js-widgets",
      "model_module_version": "~2.1.4",
      "model_name": "LayoutModel",
      "state": {
       "_model_module_version": "~2.1.4",
       "_view_module_version": "~2.1.4"
      }
     },
     "e0e76abbdc7a4079b757bc3a99800d8e": {
      "model_module": "jupyter-js-widgets",
      "model_module_version": "~2.1.4",
      "model_name": "LayoutModel",
      "state": {
       "_model_module_version": "~2.1.4",
       "_view_module_version": "~2.1.4"
      }
     },
     "e1077be0a9424fc19915d773f0c1d0b0": {
      "model_module": "jupyter-js-widgets",
      "model_module_version": "~2.1.4",
      "model_name": "LayoutModel",
      "state": {
       "_model_module_version": "~2.1.4",
       "_view_module_version": "~2.1.4"
      }
     },
     "e1c1cbae14a9464f834de45447178980": {
      "model_module": "jupyter-js-widgets",
      "model_module_version": "~2.1.4",
      "model_name": "LayoutModel",
      "state": {
       "_model_module_version": "~2.1.4",
       "_view_module_version": "~2.1.4"
      }
     },
     "e1eae5308f5f467496aa0dbae25b0ecc": {
      "model_module": "jupyter-js-widgets",
      "model_module_version": "~2.1.4",
      "model_name": "LayoutModel",
      "state": {
       "_model_module_version": "~2.1.4",
       "_view_module_version": "~2.1.4"
      }
     },
     "e2f4e56df3c446b1bc752729bcce9e62": {
      "model_module": "jupyter-js-widgets",
      "model_module_version": "~2.1.4",
      "model_name": "OutputModel",
      "state": {
       "_dom_classes": [],
       "_model_module": "jupyter-js-widgets",
       "_model_module_version": "~2.1.4",
       "_view_module": "jupyter-js-widgets",
       "_view_module_version": "~2.1.4",
       "layout": "IPY_MODEL_52dd79a402b84e8085ff455c2abd49c3",
       "msg_throttle": 1
      }
     },
     "e3a23aa1f5b041158c1c88f5f78a91e1": {
      "model_module": "jupyter-js-widgets",
      "model_module_version": "~2.1.4",
      "model_name": "OutputModel",
      "state": {
       "_dom_classes": [],
       "_model_module": "jupyter-js-widgets",
       "_model_module_version": "~2.1.4",
       "_view_module": "jupyter-js-widgets",
       "_view_module_version": "~2.1.4",
       "layout": "IPY_MODEL_3744813fd4584115a9e90b95789ef851",
       "msg_throttle": 1
      }
     },
     "e4f20bfae4f94d6ebf0a4d4f7da0ce5e": {
      "model_module": "jupyter-js-widgets",
      "model_module_version": "~2.1.4",
      "model_name": "LayoutModel",
      "state": {
       "_model_module_version": "~2.1.4",
       "_view_module_version": "~2.1.4"
      }
     },
     "e4fc5fdc8e0840f3a8cb7fd59ba2ba5c": {
      "model_module": "jupyter-js-widgets",
      "model_module_version": "~2.1.4",
      "model_name": "VBoxModel",
      "state": {
       "_dom_classes": [
        "widget-interact"
       ],
       "_model_module_version": "~2.1.4",
       "_view_module_version": "~2.1.4",
       "children": [
        "IPY_MODEL_1f5628a9801641a99af432ea96684264",
        "IPY_MODEL_fc248d3479e14a49a575b625fb6ad582"
       ],
       "layout": "IPY_MODEL_f30bfb8bdbfe4fcdaf850cc5233a6773"
      }
     },
     "e6cdef8761914220ae21d06fcb00e3f5": {
      "model_module": "jupyter-js-widgets",
      "model_module_version": "~2.1.4",
      "model_name": "SliderStyleModel",
      "state": {
       "_model_module_version": "~2.1.4",
       "_view_module_version": "~2.1.4"
      }
     },
     "e6d9399a26df4d72868248046820591f": {
      "model_module": "jupyter-js-widgets",
      "model_module_version": "~2.1.4",
      "model_name": "LayoutModel",
      "state": {
       "_model_module_version": "~2.1.4",
       "_view_module_version": "~2.1.4"
      }
     },
     "e6e59c931d7744af8f09c8eb6e8a48ae": {
      "model_module": "jupyter-js-widgets",
      "model_module_version": "~2.1.4",
      "model_name": "OutputModel",
      "state": {
       "_dom_classes": [],
       "_model_module": "jupyter-js-widgets",
       "_model_module_version": "~2.1.4",
       "_view_module": "jupyter-js-widgets",
       "_view_module_version": "~2.1.4",
       "layout": "IPY_MODEL_b853df252cbe4ec8b888d0644fbfc962",
       "msg_throttle": 1
      }
     },
     "e6f3067b9931447896aeed53377c68f6": {
      "model_module": "jupyter-js-widgets",
      "model_module_version": "~2.1.4",
      "model_name": "OutputModel",
      "state": {
       "_dom_classes": [],
       "_model_module": "jupyter-js-widgets",
       "_model_module_version": "~2.1.4",
       "_view_module": "jupyter-js-widgets",
       "_view_module_version": "~2.1.4",
       "layout": "IPY_MODEL_380d0e5528e4439ab056a54a19defb29",
       "msg_throttle": 1
      }
     },
     "e741fc8e92fc40da98ec6edb7dc9f734": {
      "model_module": "jupyter-js-widgets",
      "model_module_version": "~2.1.4",
      "model_name": "SliderStyleModel",
      "state": {
       "_model_module_version": "~2.1.4",
       "_view_module_version": "~2.1.4"
      }
     },
     "e95d05e5bc614a538af14feba12a8c42": {
      "model_module": "jupyter-js-widgets",
      "model_module_version": "~2.1.4",
      "model_name": "LayoutModel",
      "state": {
       "_model_module_version": "~2.1.4",
       "_view_module_version": "~2.1.4"
      }
     },
     "e985636ee1b647199af58cd3b69e3fad": {
      "model_module": "jupyter-js-widgets",
      "model_module_version": "~2.1.4",
      "model_name": "VBoxModel",
      "state": {
       "_dom_classes": [
        "widget-interact"
       ],
       "_model_module_version": "~2.1.4",
       "_view_module_version": "~2.1.4",
       "children": [
        "IPY_MODEL_7869e032cb2a4ac797d60fd92c540318",
        "IPY_MODEL_74160eab5c954bd8b2f1b43973a04d85"
       ],
       "layout": "IPY_MODEL_a9122e0baf57400580e796b0441ebc50"
      }
     },
     "e99925b544da40b492c3defe3331c90d": {
      "model_module": "jupyter-js-widgets",
      "model_module_version": "~2.1.4",
      "model_name": "LayoutModel",
      "state": {
       "_model_module_version": "~2.1.4",
       "_view_module_version": "~2.1.4"
      }
     },
     "e9c883a6d48b4345a76153f697320684": {
      "model_module": "jupyter-js-widgets",
      "model_module_version": "~2.1.4",
      "model_name": "LayoutModel",
      "state": {
       "_model_module_version": "~2.1.4",
       "_view_module_version": "~2.1.4"
      }
     },
     "e9cbe1926e334d70ad02085af9ce32cb": {
      "model_module": "jupyter-js-widgets",
      "model_module_version": "~2.1.4",
      "model_name": "IntSliderModel",
      "state": {
       "_model_module_version": "~2.1.4",
       "_view_module_version": "~2.1.4",
       "description": "time",
       "layout": "IPY_MODEL_466e3012c41740da9ec18761db34f80e",
       "max": 20,
       "style": "IPY_MODEL_313a0cf48a404b64911dd6047b30235e"
      }
     },
     "ea0d2a3a15404bc688b138c7f13da95f": {
      "model_module": "jupyter-js-widgets",
      "model_module_version": "~2.1.4",
      "model_name": "LayoutModel",
      "state": {
       "_model_module_version": "~2.1.4",
       "_view_module_version": "~2.1.4"
      }
     },
     "eafeab9b78454b4c88633ad3ebe3bd76": {
      "model_module": "jupyter-js-widgets",
      "model_module_version": "~2.1.4",
      "model_name": "LayoutModel",
      "state": {
       "_model_module_version": "~2.1.4",
       "_view_module_version": "~2.1.4"
      }
     },
     "ec578f4dcb204d379526317515e175d9": {
      "model_module": "jupyter-js-widgets",
      "model_module_version": "~2.1.4",
      "model_name": "LayoutModel",
      "state": {
       "_model_module_version": "~2.1.4",
       "_view_module_version": "~2.1.4"
      }
     },
     "ecfd4fe5b15040d2bb54767a8212713a": {
      "model_module": "jupyter-js-widgets",
      "model_module_version": "~2.1.4",
      "model_name": "LayoutModel",
      "state": {
       "_model_module_version": "~2.1.4",
       "_view_module_version": "~2.1.4"
      }
     },
     "ed7a5dc3161f4b36bd32c7a86698d706": {
      "model_module": "jupyter-js-widgets",
      "model_module_version": "~2.1.4",
      "model_name": "SliderStyleModel",
      "state": {
       "_model_module_version": "~2.1.4",
       "_view_module_version": "~2.1.4"
      }
     },
     "ed8fa8753b294f12bf5c076ec591fc74": {
      "model_module": "jupyter-js-widgets",
      "model_module_version": "~2.1.4",
      "model_name": "LayoutModel",
      "state": {
       "_model_module_version": "~2.1.4",
       "_view_module_version": "~2.1.4"
      }
     },
     "edd46b5ffa6b40739f710c5ac964f9da": {
      "model_module": "jupyter-js-widgets",
      "model_module_version": "~2.1.4",
      "model_name": "LayoutModel",
      "state": {
       "_model_module_version": "~2.1.4",
       "_view_module_version": "~2.1.4"
      }
     },
     "eec5192f60124839a1a03e316b067ca1": {
      "model_module": "jupyter-js-widgets",
      "model_module_version": "~2.1.4",
      "model_name": "SliderStyleModel",
      "state": {
       "_model_module_version": "~2.1.4",
       "_view_module_version": "~2.1.4"
      }
     },
     "ef02699e92964531bb67e859bb569af8": {
      "model_module": "jupyter-js-widgets",
      "model_module_version": "~2.1.4",
      "model_name": "IntSliderModel",
      "state": {
       "_model_module_version": "~2.1.4",
       "_view_module_version": "~2.1.4",
       "description": "time",
       "layout": "IPY_MODEL_1e42ac04bdd54266ab801d3ccd8682ae",
       "style": "IPY_MODEL_502863a3521b4fb29062e0d85612b765",
       "value": 100
      }
     },
     "f02ea452a6c2489ebd1b7355c8f43c14": {
      "model_module": "jupyter-js-widgets",
      "model_module_version": "~2.1.4",
      "model_name": "VBoxModel",
      "state": {
       "_dom_classes": [
        "widget-interact"
       ],
       "_model_module_version": "~2.1.4",
       "_view_module_version": "~2.1.4",
       "children": [
        "IPY_MODEL_ae61c6093ba74c0f9535b0fed9beec9a",
        "IPY_MODEL_c10623bd2f504aa88915253af5aca50b"
       ],
       "layout": "IPY_MODEL_ce2e91ed526f4b73a0b9e29221b8470d"
      }
     },
     "f08c2b0c3e5c463db7d817391fdedd0e": {
      "model_module": "jupyter-js-widgets",
      "model_module_version": "~2.1.4",
      "model_name": "LayoutModel",
      "state": {
       "_model_module_version": "~2.1.4",
       "_view_module_version": "~2.1.4"
      }
     },
     "f2ebef20962946d1914f5fb3232a79da": {
      "model_module": "jupyter-js-widgets",
      "model_module_version": "~2.1.4",
      "model_name": "IntSliderModel",
      "state": {
       "_model_module_version": "~2.1.4",
       "_view_module_version": "~2.1.4",
       "description": "time",
       "layout": "IPY_MODEL_2ba8cdb0fa594d0a8ed731a284e77b38",
       "max": 30,
       "style": "IPY_MODEL_50e4ce79c0b348ceafc7c6c833610c60",
       "value": 30
      }
     },
     "f30bfb8bdbfe4fcdaf850cc5233a6773": {
      "model_module": "jupyter-js-widgets",
      "model_module_version": "~2.1.4",
      "model_name": "LayoutModel",
      "state": {
       "_model_module_version": "~2.1.4",
       "_view_module_version": "~2.1.4"
      }
     },
     "f38a8d9d8c2a48ac8d410736e7e2a95d": {
      "model_module": "jupyter-js-widgets",
      "model_module_version": "~2.1.4",
      "model_name": "LayoutModel",
      "state": {
       "_model_module_version": "~2.1.4",
       "_view_module_version": "~2.1.4"
      }
     },
     "f422abe64fe048efb70fec5d02fa7bcf": {
      "model_module": "jupyter-js-widgets",
      "model_module_version": "~2.1.4",
      "model_name": "LayoutModel",
      "state": {
       "_model_module_version": "~2.1.4",
       "_view_module_version": "~2.1.4"
      }
     },
     "f4fc5fa1105443d1b802c0b9386ec93c": {
      "model_module": "jupyter-js-widgets",
      "model_module_version": "~2.1.4",
      "model_name": "LayoutModel",
      "state": {
       "_model_module_version": "~2.1.4",
       "_view_module_version": "~2.1.4"
      }
     },
     "f604d3c921fa4090a489bff5f570f9c9": {
      "model_module": "jupyter-js-widgets",
      "model_module_version": "~2.1.4",
      "model_name": "LayoutModel",
      "state": {
       "_model_module_version": "~2.1.4",
       "_view_module_version": "~2.1.4"
      }
     },
     "f6a57d4882d943d68fd9a534565ae42b": {
      "model_module": "jupyter-js-widgets",
      "model_module_version": "~2.1.4",
      "model_name": "IntSliderModel",
      "state": {
       "_model_module_version": "~2.1.4",
       "_view_module_version": "~2.1.4",
       "description": "time",
       "layout": "IPY_MODEL_0b8fc769eba14e7599c76418ee55fdfb",
       "max": 20,
       "style": "IPY_MODEL_f731fcf3f3bc441fafc5666753296ee6",
       "value": 20
      }
     },
     "f6ab6c238d004c7c96114321db14af10": {
      "model_module": "jupyter-js-widgets",
      "model_module_version": "~2.1.4",
      "model_name": "VBoxModel",
      "state": {
       "_dom_classes": [
        "widget-interact"
       ],
       "_model_module_version": "~2.1.4",
       "_view_module_version": "~2.1.4",
       "children": [
        "IPY_MODEL_907bf47068044536bcc5361263a4c0a9",
        "IPY_MODEL_266400cd41734f62a9dec38bbc307481"
       ],
       "layout": "IPY_MODEL_8d4d289040484a489b01ef2dcf7c576c"
      }
     },
     "f6d10ad896e048c48cdba9f66401a0e5": {
      "model_module": "jupyter-js-widgets",
      "model_module_version": "~2.1.4",
      "model_name": "IntSliderModel",
      "state": {
       "_model_module_version": "~2.1.4",
       "_view_module_version": "~2.1.4",
       "description": "time",
       "layout": "IPY_MODEL_0bbc9f73b35d4344a0604e470b4329d4",
       "style": "IPY_MODEL_746d71554e87441e8f67b52064147fc6"
      }
     },
     "f731fcf3f3bc441fafc5666753296ee6": {
      "model_module": "jupyter-js-widgets",
      "model_module_version": "~2.1.4",
      "model_name": "SliderStyleModel",
      "state": {
       "_model_module_version": "~2.1.4",
       "_view_module_version": "~2.1.4"
      }
     },
     "f867be0e5ea24dd69e2bd30aa34894dc": {
      "model_module": "jupyter-js-widgets",
      "model_module_version": "~2.1.4",
      "model_name": "SliderStyleModel",
      "state": {
       "_model_module_version": "~2.1.4",
       "_view_module_version": "~2.1.4"
      }
     },
     "f8c27cbe9ec544a3bbfb461d724abe4b": {
      "model_module": "jupyter-js-widgets",
      "model_module_version": "~2.1.4",
      "model_name": "OutputModel",
      "state": {
       "_dom_classes": [],
       "_model_module": "jupyter-js-widgets",
       "_model_module_version": "~2.1.4",
       "_view_module": "jupyter-js-widgets",
       "_view_module_version": "~2.1.4",
       "layout": "IPY_MODEL_361ba12f08624962828cbe47ae37090c",
       "msg_throttle": 1
      }
     },
     "fa61fbbc276c4f4e9d76617744f0f356": {
      "model_module": "jupyter-js-widgets",
      "model_module_version": "~2.1.4",
      "model_name": "SliderStyleModel",
      "state": {
       "_model_module_version": "~2.1.4",
       "_view_module_version": "~2.1.4"
      }
     },
     "fb241c3fe7504456bcb92d5cba9bcec8": {
      "model_module": "jupyter-js-widgets",
      "model_module_version": "~2.1.4",
      "model_name": "IntSliderModel",
      "state": {
       "_model_module_version": "~2.1.4",
       "_view_module_version": "~2.1.4",
       "description": "time",
       "layout": "IPY_MODEL_0c0ffb7070964b3ab0baadfb3a6a73a3",
       "max": 10,
       "style": "IPY_MODEL_86164b2120ec46b8801b8d977951e5ab"
      }
     },
     "fbea8529b34a4f99954ca4ea13c9ea82": {
      "model_module": "jupyter-js-widgets",
      "model_module_version": "~2.1.4",
      "model_name": "LayoutModel",
      "state": {
       "_model_module_version": "~2.1.4",
       "_view_module_version": "~2.1.4"
      }
     },
     "fc248d3479e14a49a575b625fb6ad582": {
      "model_module": "jupyter-js-widgets",
      "model_module_version": "~2.1.4",
      "model_name": "OutputModel",
      "state": {
       "_dom_classes": [],
       "_model_module": "jupyter-js-widgets",
       "_model_module_version": "~2.1.4",
       "_view_module": "jupyter-js-widgets",
       "_view_module_version": "~2.1.4",
       "layout": "IPY_MODEL_44495625e34646609f0ad79ee4ebcbcd",
       "msg_throttle": 1
      }
     },
     "fc6149f16dee477e96a16d0f10a7dddc": {
      "model_module": "jupyter-js-widgets",
      "model_module_version": "~2.1.4",
      "model_name": "OutputModel",
      "state": {
       "_dom_classes": [],
       "_model_module": "jupyter-js-widgets",
       "_model_module_version": "~2.1.4",
       "_view_module": "jupyter-js-widgets",
       "_view_module_version": "~2.1.4",
       "layout": "IPY_MODEL_db6297590495451d8016fd6f085e214d",
       "msg_throttle": 1
      }
     },
     "fce376e6187c4b4a84a34f1da104b775": {
      "model_module": "jupyter-js-widgets",
      "model_module_version": "~2.1.4",
      "model_name": "VBoxModel",
      "state": {
       "_dom_classes": [
        "widget-interact"
       ],
       "_model_module_version": "~2.1.4",
       "_view_module_version": "~2.1.4",
       "children": [
        "IPY_MODEL_ef02699e92964531bb67e859bb569af8",
        "IPY_MODEL_ca4449595b214429955b5489cd389dfb"
       ],
       "layout": "IPY_MODEL_2a7b6e9a337e440a95dcbfe1a46cfe4f"
      }
     },
     "fd085481f15b424fb091966bd4952023": {
      "model_module": "jupyter-js-widgets",
      "model_module_version": "~2.1.4",
      "model_name": "OutputModel",
      "state": {
       "_dom_classes": [],
       "_model_module": "jupyter-js-widgets",
       "_model_module_version": "~2.1.4",
       "_view_module": "jupyter-js-widgets",
       "_view_module_version": "~2.1.4",
       "layout": "IPY_MODEL_b42d15d188464b5f9ac580f6b6083aa9",
       "msg_throttle": 1
      }
     },
     "fd4e6028d3a449fe9a900ff28ce578f9": {
      "model_module": "jupyter-js-widgets",
      "model_module_version": "~2.1.4",
      "model_name": "LayoutModel",
      "state": {
       "_model_module_version": "~2.1.4",
       "_view_module_version": "~2.1.4"
      }
     },
     "fd98d48c381849838e3c2b3eeba16bdd": {
      "model_module": "jupyter-js-widgets",
      "model_module_version": "~2.1.4",
      "model_name": "VBoxModel",
      "state": {
       "_dom_classes": [
        "widget-interact"
       ],
       "_model_module_version": "~2.1.4",
       "_view_module_version": "~2.1.4",
       "children": [
        "IPY_MODEL_2336aa5ff4414d088b7fd0cbf0d20f24",
        "IPY_MODEL_89952460ea374e3d86cab88eb2830b95"
       ],
       "layout": "IPY_MODEL_274ff7d7e52c47c58d93633eec3e8ab0"
      }
     },
     "fdcb028af9774fbfbaa8726491cc9af0": {
      "model_module": "jupyter-js-widgets",
      "model_module_version": "~2.1.4",
      "model_name": "LayoutModel",
      "state": {
       "_model_module_version": "~2.1.4",
       "_view_module_version": "~2.1.4"
      }
     }
    },
    "version_major": 1,
    "version_minor": 0
   }
  }
 },
 "nbformat": 4,
 "nbformat_minor": 2
}
